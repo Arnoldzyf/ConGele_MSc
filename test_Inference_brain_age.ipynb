{
 "cells": [
  {
   "cell_type": "code",
   "execution_count": 3,
   "id": "07c73a0e-9a4e-41f5-868e-504768682920",
   "metadata": {},
   "outputs": [],
   "source": [
    "import sys\n",
    "import os\n",
    "SFCN_path = \"../UKBiobank_deep_pretrain-master\"\n",
    "sys.path.append(SFCN_path)\n",
    "Data_path = \"../data_small/preprocessed\"\n",
    "Info_path =  \"../data_small/clinical_data.csv\""
   ]
  },
  {
   "cell_type": "code",
   "execution_count": 4,
   "id": "5a6ecd6b-8a70-4c86-93cf-0bbbfba00428",
   "metadata": {},
   "outputs": [
    {
     "ename": "ModuleNotFoundError",
     "evalue": "No module named 'h5py'",
     "output_type": "error",
     "traceback": [
      "\u001b[0;31m---------------------------------------------------------------------------\u001b[0m",
      "\u001b[0;31mModuleNotFoundError\u001b[0m                       Traceback (most recent call last)",
      "Cell \u001b[0;32mIn[4], line 9\u001b[0m\n\u001b[1;32m      7\u001b[0m \u001b[38;5;28;01mimport\u001b[39;00m \u001b[38;5;21;01mnumpy\u001b[39;00m \u001b[38;5;28;01mas\u001b[39;00m \u001b[38;5;21;01mnp\u001b[39;00m\n\u001b[1;32m      8\u001b[0m \u001b[38;5;28;01mimport\u001b[39;00m \u001b[38;5;21;01mmatplotlib\u001b[39;00m\u001b[38;5;21;01m.\u001b[39;00m\u001b[38;5;21;01mpyplot\u001b[39;00m \u001b[38;5;28;01mas\u001b[39;00m \u001b[38;5;21;01mplt\u001b[39;00m\n\u001b[0;32m----> 9\u001b[0m \u001b[38;5;28;01mimport\u001b[39;00m \u001b[38;5;21;01mh5py\u001b[39;00m\n\u001b[1;32m     10\u001b[0m \u001b[38;5;28;01mimport\u001b[39;00m \u001b[38;5;21;01mpandas\u001b[39;00m \u001b[38;5;28;01mas\u001b[39;00m \u001b[38;5;21;01mpd\u001b[39;00m\n\u001b[1;32m     11\u001b[0m \u001b[38;5;28;01mfrom\u001b[39;00m \u001b[38;5;21;01mscipy\u001b[39;00m\u001b[38;5;21;01m.\u001b[39;00m\u001b[38;5;21;01mlinalg\u001b[39;00m \u001b[38;5;28;01mimport\u001b[39;00m lstsq\n",
      "\u001b[0;31mModuleNotFoundError\u001b[0m: No module named 'h5py'"
     ]
    }
   ],
   "source": [
    "from dp_model.model_files.sfcn import SFCN\n",
    "from dp_model import dp_loss as dpl\n",
    "from dp_model import dp_utils as dpu\n",
    "import torch\n",
    "import torch.nn.functional as F\n",
    "from torch.utils.data import DataLoader\n",
    "import numpy as np\n",
    "import matplotlib.pyplot as plt\n",
    "import h5py\n",
    "import pandas as pd\n",
    "from scipy.linalg import lstsq"
   ]
  },
  {
   "cell_type": "markdown",
   "id": "27762b20-b012-4d03-988a-1c5dcbad0eb2",
   "metadata": {},
   "source": [
    "# Load the model\n",
    "Use preprocessed brain scans (**??**)    \n",
    "**Model input shape: [batch_size, 1, 160, 192, 160]**"
   ]
  },
  {
   "cell_type": "code",
   "execution_count": 6,
   "id": "c3a0e1d8-6fc0-4720-a4af-2530b0c4d254",
   "metadata": {},
   "outputs": [
    {
     "data": {
      "text/plain": [
       "DataParallel(\n",
       "  (module): SFCN(\n",
       "    (feature_extractor): Sequential(\n",
       "      (conv_0): Sequential(\n",
       "        (0): Conv3d(1, 32, kernel_size=(3, 3, 3), stride=(1, 1, 1), padding=(1, 1, 1))\n",
       "        (1): BatchNorm3d(32, eps=1e-05, momentum=0.1, affine=True, track_running_stats=True)\n",
       "        (2): MaxPool3d(kernel_size=2, stride=2, padding=0, dilation=1, ceil_mode=False)\n",
       "        (3): ReLU()\n",
       "      )\n",
       "      (conv_1): Sequential(\n",
       "        (0): Conv3d(32, 64, kernel_size=(3, 3, 3), stride=(1, 1, 1), padding=(1, 1, 1))\n",
       "        (1): BatchNorm3d(64, eps=1e-05, momentum=0.1, affine=True, track_running_stats=True)\n",
       "        (2): MaxPool3d(kernel_size=2, stride=2, padding=0, dilation=1, ceil_mode=False)\n",
       "        (3): ReLU()\n",
       "      )\n",
       "      (conv_2): Sequential(\n",
       "        (0): Conv3d(64, 128, kernel_size=(3, 3, 3), stride=(1, 1, 1), padding=(1, 1, 1))\n",
       "        (1): BatchNorm3d(128, eps=1e-05, momentum=0.1, affine=True, track_running_stats=True)\n",
       "        (2): MaxPool3d(kernel_size=2, stride=2, padding=0, dilation=1, ceil_mode=False)\n",
       "        (3): ReLU()\n",
       "      )\n",
       "      (conv_3): Sequential(\n",
       "        (0): Conv3d(128, 256, kernel_size=(3, 3, 3), stride=(1, 1, 1), padding=(1, 1, 1))\n",
       "        (1): BatchNorm3d(256, eps=1e-05, momentum=0.1, affine=True, track_running_stats=True)\n",
       "        (2): MaxPool3d(kernel_size=2, stride=2, padding=0, dilation=1, ceil_mode=False)\n",
       "        (3): ReLU()\n",
       "      )\n",
       "      (conv_4): Sequential(\n",
       "        (0): Conv3d(256, 256, kernel_size=(3, 3, 3), stride=(1, 1, 1), padding=(1, 1, 1))\n",
       "        (1): BatchNorm3d(256, eps=1e-05, momentum=0.1, affine=True, track_running_stats=True)\n",
       "        (2): MaxPool3d(kernel_size=2, stride=2, padding=0, dilation=1, ceil_mode=False)\n",
       "        (3): ReLU()\n",
       "      )\n",
       "      (conv_5): Sequential(\n",
       "        (0): Conv3d(256, 64, kernel_size=(1, 1, 1), stride=(1, 1, 1))\n",
       "        (1): BatchNorm3d(64, eps=1e-05, momentum=0.1, affine=True, track_running_stats=True)\n",
       "        (2): ReLU()\n",
       "      )\n",
       "    )\n",
       "    (classifier): Sequential(\n",
       "      (average_pool): AvgPool3d(kernel_size=[5, 6, 5], stride=[5, 6, 5], padding=0)\n",
       "      (dropout): Dropout(p=0.5, inplace=False)\n",
       "      (conv_6): Conv3d(64, 40, kernel_size=(1, 1, 1), stride=(1, 1, 1))\n",
       "    )\n",
       "  )\n",
       ")"
      ]
     },
     "execution_count": 6,
     "metadata": {},
     "output_type": "execute_result"
    }
   ],
   "source": [
    "retrain = False\n",
    "state_dict_path = \"./trained_SFCN/UKBB_HC/UKBB_HC_best.pth\"\n",
    "\n",
    "model = SFCN()\n",
    "model = torch.nn.DataParallel(model)\n",
    "\n",
    "if not retrain:\n",
    "    fp_ = os.path.join(SFCN_path, './brain_age/run_20190719_00_epoch_best_mae.p')\n",
    "    model.load_state_dict(torch.load(fp_))\n",
    "else:\n",
    "    state_dict = torch.load(state_dict_path) \n",
    "    model.load_state_dict(state_dict['model'])\n",
    "\n",
    "model.cuda()"
   ]
  },
  {
   "cell_type": "markdown",
   "id": "2987320f-082d-4a81-b0b3-df1f477424d2",
   "metadata": {},
   "source": [
    "# Get bin-ceter\n",
    "np array of shape (40,)"
   ]
  },
  {
   "cell_type": "code",
   "execution_count": 7,
   "id": "bbd51a14-9800-49b2-9f62-6a559287bd10",
   "metadata": {},
   "outputs": [],
   "source": [
    "## a one-year age interval between 42 to 82 (for UK Biobank)\n",
    "bc_1 = np.arange(start=42.5, stop=82, step=1)\n",
    "## a two-year age interval between 14 to 94 (for PAC 2019).\n",
    "bc_2 = np.arange(start=15.0, stop=94, step=2)"
   ]
  },
  {
   "cell_type": "markdown",
   "id": "5c6f50ce-1ad1-49dd-8740-3f314869ea70",
   "metadata": {},
   "source": [
    "# Try with one pre-processed sample"
   ]
  },
  {
   "cell_type": "markdown",
   "id": "85cc0bf2-54ae-4e8e-a7c4-bc1eb84f4f09",
   "metadata": {},
   "source": [
    "According to the SFCN paper: \"40 digits that represent the predicted probability that the subject’s age falls into a one-year age interval between 42 to 82 (for UK Biobank)\".\n",
    "- ?? The data we are using now contains age that is out of range\n",
    "- ?? Does the UKB data we are going to use later all falls in this age range?"
   ]
  },
  {
   "cell_type": "code",
   "execution_count": 54,
   "id": "2823997a-41ca-4ace-8680-873c47a06d19",
   "metadata": {},
   "outputs": [
    {
     "name": "stdout",
     "output_type": "stream",
     "text": [
      "../data_small/preprocessed\\AOMIC/ds002785/sub-0001/sub-0001_T1w.h5\n"
     ]
    }
   ],
   "source": [
    "# single test sample path\n",
    "## second arg of path.join cannot start by \"/\" or \"\\\"\n",
    "test_sample_path = os.path.join(Data_path, \"AOMIC/ds002785/sub-0001/sub-0001_T1w.h5\")\n",
    "print(test_sample_path)"
   ]
  },
  {
   "cell_type": "markdown",
   "id": "37b15aec-fc58-417b-ae84-2b7678d74552",
   "metadata": {},
   "source": [
    "## Get chronologicalage and bin-center"
   ]
  },
  {
   "cell_type": "code",
   "execution_count": 32,
   "id": "c52264f0-bf1d-47e0-9fa1-94dcce8e14c0",
   "metadata": {},
   "outputs": [],
   "source": [
    "## ??? fixed bin range, how about ages out of range\n",
    "## label and y do not matter here, just to get the bin-center: bc\n",
    "\n",
    "## true age for this subject is 26.25, which is output range\n",
    "test_ture_age = 26.25 ## should be retrieved from file\n",
    "label = np.array([71.3,]) # Assuming the subject is 71.3-year-old.\n",
    "\n",
    "# Transforming the age to soft label (probability distribution)\n",
    "bin_range = [42,82]\n",
    "bin_step = 1\n",
    "sigma = 1\n",
    "\n",
    "## get a normal distribution centered at the label\n",
    "## y: porb within each bin; bc: bin-center\n",
    "y, bc = dpu.num2vect(label, bin_range, bin_step, sigma) \n",
    "y = torch.tensor(y, dtype=torch.float32) ## torch.Size([1, 40])\n",
    "\n",
    "#print(bc) ## [42.5, ..., 81.5] ## np array (40,)"
   ]
  },
  {
   "cell_type": "markdown",
   "id": "bbab9077-a90b-4b2b-8f5c-b83bb61d9ffd",
   "metadata": {},
   "source": [
    "## Load data"
   ]
  },
  {
   "cell_type": "code",
   "execution_count": 55,
   "id": "b30abbb4-89ec-48f0-8258-5c5b886d2f17",
   "metadata": {},
   "outputs": [],
   "source": [
    "test_h5 = h5py.File(test_sample_path, 'r')\n",
    "test_arr = np.array(test_h5['preprocessed_volume']) ## size: (160, 192, 160)"
   ]
  },
  {
   "cell_type": "code",
   "execution_count": 56,
   "id": "613bfcc7-5f8e-4f7b-9be4-bdf3a18b67cc",
   "metadata": {},
   "outputs": [
    {
     "data": {
      "text/plain": [
       "array([[[-0.49228448, -0.49228448, -0.49228448, ..., -0.49228448,\n",
       "         -0.49228448, -0.49228448],\n",
       "        [-0.49228448, -0.49228448, -0.49228448, ..., -0.49228448,\n",
       "         -0.49228448, -0.49228448],\n",
       "        [-0.49228448, -0.49228448, -0.49228448, ..., -0.49228448,\n",
       "         -0.49228448, -0.49228448],\n",
       "        ...,\n",
       "        [-0.49228448, -0.49228448, -0.49228448, ..., -0.49228448,\n",
       "         -0.49228448, -0.49228448],\n",
       "        [-0.49228448, -0.49228448, -0.49228448, ..., -0.49228448,\n",
       "         -0.49228448, -0.49228448],\n",
       "        [-0.49228448, -0.49228448, -0.49228448, ..., -0.49228448,\n",
       "         -0.49228448, -0.49228448]],\n",
       "\n",
       "       [[-0.49228448, -0.49228448, -0.49228448, ..., -0.49228448,\n",
       "         -0.49228448, -0.49228448],\n",
       "        [-0.49228448, -0.49228448, -0.49228448, ..., -0.49228448,\n",
       "         -0.49228448, -0.49228448],\n",
       "        [-0.49228448, -0.49228448, -0.49228448, ..., -0.49228448,\n",
       "         -0.49228448, -0.49228448],\n",
       "        ...,\n",
       "        [-0.49228448, -0.49228448, -0.49228448, ..., -0.49228448,\n",
       "         -0.49228448, -0.49228448],\n",
       "        [-0.49228448, -0.49228448, -0.49228448, ..., -0.49228448,\n",
       "         -0.49228448, -0.49228448],\n",
       "        [-0.49228448, -0.49228448, -0.49228448, ..., -0.49228448,\n",
       "         -0.49228448, -0.49228448]],\n",
       "\n",
       "       [[-0.49228448, -0.49228448, -0.49228448, ..., -0.49228448,\n",
       "         -0.49228448, -0.49228448],\n",
       "        [-0.49228448, -0.49228448, -0.49228448, ..., -0.49228448,\n",
       "         -0.49228448, -0.49228448],\n",
       "        [-0.49228448, -0.49228448, -0.49228448, ..., -0.49228448,\n",
       "         -0.49228448, -0.49228448],\n",
       "        ...,\n",
       "        [-0.49228448, -0.49228448, -0.49228448, ..., -0.49228448,\n",
       "         -0.49228448, -0.49228448],\n",
       "        [-0.49228448, -0.49228448, -0.49228448, ..., -0.49228448,\n",
       "         -0.49228448, -0.49228448],\n",
       "        [-0.49228448, -0.49228448, -0.49228448, ..., -0.49228448,\n",
       "         -0.49228448, -0.49228448]],\n",
       "\n",
       "       ...,\n",
       "\n",
       "       [[-0.49228448, -0.49228448, -0.49228448, ..., -0.49228448,\n",
       "         -0.49228448, -0.49228448],\n",
       "        [-0.49228448, -0.49228448, -0.49228448, ..., -0.49228448,\n",
       "         -0.49228448, -0.49228448],\n",
       "        [-0.49228448, -0.49228448, -0.49228448, ..., -0.49228448,\n",
       "         -0.49228448, -0.49228448],\n",
       "        ...,\n",
       "        [-0.49228448, -0.49228448, -0.49228448, ..., -0.49228448,\n",
       "         -0.49228448, -0.49228448],\n",
       "        [-0.49228448, -0.49228448, -0.49228448, ..., -0.49228448,\n",
       "         -0.49228448, -0.49228448],\n",
       "        [-0.49228448, -0.49228448, -0.49228448, ..., -0.49228448,\n",
       "         -0.49228448, -0.49228448]],\n",
       "\n",
       "       [[-0.49228448, -0.49228448, -0.49228448, ..., -0.49228448,\n",
       "         -0.49228448, -0.49228448],\n",
       "        [-0.49228448, -0.49228448, -0.49228448, ..., -0.49228448,\n",
       "         -0.49228448, -0.49228448],\n",
       "        [-0.49228448, -0.49228448, -0.49228448, ..., -0.49228448,\n",
       "         -0.49228448, -0.49228448],\n",
       "        ...,\n",
       "        [-0.49228448, -0.49228448, -0.49228448, ..., -0.49228448,\n",
       "         -0.49228448, -0.49228448],\n",
       "        [-0.49228448, -0.49228448, -0.49228448, ..., -0.49228448,\n",
       "         -0.49228448, -0.49228448],\n",
       "        [-0.49228448, -0.49228448, -0.49228448, ..., -0.49228448,\n",
       "         -0.49228448, -0.49228448]],\n",
       "\n",
       "       [[-0.49228448, -0.49228448, -0.49228448, ..., -0.49228448,\n",
       "         -0.49228448, -0.49228448],\n",
       "        [-0.49228448, -0.49228448, -0.49228448, ..., -0.49228448,\n",
       "         -0.49228448, -0.49228448],\n",
       "        [-0.49228448, -0.49228448, -0.49228448, ..., -0.49228448,\n",
       "         -0.49228448, -0.49228448],\n",
       "        ...,\n",
       "        [-0.49228448, -0.49228448, -0.49228448, ..., -0.49228448,\n",
       "         -0.49228448, -0.49228448],\n",
       "        [-0.49228448, -0.49228448, -0.49228448, ..., -0.49228448,\n",
       "         -0.49228448, -0.49228448],\n",
       "        [-0.49228448, -0.49228448, -0.49228448, ..., -0.49228448,\n",
       "         -0.49228448, -0.49228448]]])"
      ]
     },
     "execution_count": 56,
     "metadata": {},
     "output_type": "execute_result"
    }
   ],
   "source": [
    "test_arr"
   ]
  },
  {
   "cell_type": "markdown",
   "id": "727fe845-5161-4970-8870-9d7b2990ccdf",
   "metadata": {},
   "source": [
    "**??? no need preprocess here**:\n",
    "divide by mean, or, dpu.crop_center"
   ]
  },
  {
   "cell_type": "code",
   "execution_count": 59,
   "id": "659b2b03-a4b9-467f-ba29-df843d21b35e",
   "metadata": {},
   "outputs": [],
   "source": [
    "sp = (1,1) + test_arr.shape\n",
    "test_reshape = test_arr.reshape(sp)\n",
    "test_input = torch.tensor(test_reshape, dtype=torch.float32).cuda() ## torch.Size([1, 1, 160, 192, 160])"
   ]
  },
  {
   "cell_type": "markdown",
   "id": "1d6b6551-3c59-42c8-b6f1-ba70079b5d17",
   "metadata": {},
   "source": [
    "## Inference brain age"
   ]
  },
  {
   "cell_type": "code",
   "execution_count": 60,
   "id": "fb29f627-f456-461b-ae41-828ae59655f9",
   "metadata": {},
   "outputs": [],
   "source": [
    "# Evaluation\n",
    "model.eval() # Don't forget this. BatchNorm will be affected if not in eval mode.\n",
    "with torch.no_grad():\n",
    "    ## list of length 1 (because only one data?), \n",
    "    ## each list element is a tensor of size [1, 40, 1, 1, 1] -- prob distribution?\n",
    "    t_output = model(test_input) "
   ]
  },
  {
   "cell_type": "code",
   "execution_count": 62,
   "id": "0f1a8bb9-db9d-4cf9-8760-0f66cb906e00",
   "metadata": {},
   "outputs": [],
   "source": [
    "# Result of the first (only one) sample\n",
    "test_output = t_output[0].cpu().reshape([1, -1]) ## torch.Size([1, 40]), prob distribution in log domain"
   ]
  },
  {
   "cell_type": "code",
   "execution_count": 63,
   "id": "5f9582f5-a0e1-4845-a441-96776b406575",
   "metadata": {},
   "outputs": [],
   "source": [
    "test_output_arr = test_output.numpy().reshape(-1) ## np array (40,)"
   ]
  },
  {
   "cell_type": "code",
   "execution_count": 64,
   "id": "2188eecb-9c85-49e3-b491-7994e2a8b99a",
   "metadata": {},
   "outputs": [
    {
     "name": "stdout",
     "output_type": "stream",
     "text": [
      "predicted age: \t 62.145415740145836\n",
      "ture age: \t 26.25\n"
     ]
    }
   ],
   "source": [
    "test_prob = np.exp(test_output_arr) ## exp\n",
    "test_pred = test_prob @ bc\n",
    "print(\"predicted age: \\t {}\".format(test_pred))\n",
    "print(\"ture age: \\t {}\".format(test_ture_age))"
   ]
  },
  {
   "cell_type": "code",
   "execution_count": 65,
   "id": "c822f27c-29c8-4fb6-917c-3b19b13d77df",
   "metadata": {},
   "outputs": [
    {
     "data": {
      "text/plain": [
       "54.290834161336534"
      ]
     },
     "execution_count": 65,
     "metadata": {},
     "output_type": "execute_result"
    }
   ],
   "source": [
    "test_prob @ bc2"
   ]
  },
  {
   "cell_type": "markdown",
   "id": "65d76712-31f2-430e-9fd2-faae5ce71baf",
   "metadata": {},
   "source": [
    "# Run on the small dataset"
   ]
  },
  {
   "cell_type": "markdown",
   "id": "25dd48c1-e76e-48ce-8310-9c00b7fa2676",
   "metadata": {},
   "source": [
    "## Search for all the data path"
   ]
  },
  {
   "cell_type": "code",
   "execution_count": 11,
   "id": "8e6d7c9e-e2ae-48af-98a1-aa0da05d4e58",
   "metadata": {},
   "outputs": [
    {
     "name": "stdout",
     "output_type": "stream",
     "text": [
      "../data_small/preprocessed\\AOMIC\\ds002785\\sub-0001\\sub-0001_T1w.h5\n",
      "../data_small/preprocessed\\AOMIC\\ds002785\\sub-0002\\sub-0002_T1w.h5\n",
      "../data_small/preprocessed\\AOMIC\\ds002785\\sub-0003\\sub-0003_T1w.h5\n",
      "../data_small/preprocessed\\AOMIC\\ds002785\\sub-0004\\sub-0004_T1w.h5\n",
      "../data_small/preprocessed\\AOMIC\\ds002785\\sub-0005\\sub-0005_T1w.h5\n",
      "../data_small/preprocessed\\AOMIC\\ds002790\\sub-0001\\sub-0001_T1w.h5\n",
      "../data_small/preprocessed\\AOMIC\\ds002790\\sub-0002\\sub-0002_T1w.h5\n",
      "../data_small/preprocessed\\AOMIC\\ds002790\\sub-0003\\sub-0003_T1w.h5\n",
      "../data_small/preprocessed\\AOMIC\\ds002790\\sub-0004\\sub-0004_T1w.h5\n",
      "../data_small/preprocessed\\AOMIC\\ds002790\\sub-0005\\sub-0005_T1w.h5\n",
      "../data_small/preprocessed\\AOMIC\\ds003097\\sub-0001\\sub-0001_T1w.h5\n",
      "../data_small/preprocessed\\AOMIC\\ds003097\\sub-0002\\sub-0002_T1w.h5\n",
      "../data_small/preprocessed\\AOMIC\\ds003097\\sub-0003\\sub-0003_T1w.h5\n",
      "../data_small/preprocessed\\AOMIC\\ds003097\\sub-0004\\sub-0004_T1w.h5\n",
      "../data_small/preprocessed\\AOMIC\\ds003097\\sub-0005\\sub-0005_T1w.h5\n",
      "../data_small/preprocessed\\ds000119\\sub-01\\sub-01_T1w.h5\n",
      "../data_small/preprocessed\\ds000119\\sub-02\\sub-02_T1w.h5\n",
      "../data_small/preprocessed\\ds000119\\sub-03\\sub-03_T1w.h5\n",
      "../data_small/preprocessed\\ds000119\\sub-04\\sub-04_T1w.h5\n",
      "../data_small/preprocessed\\ds000119\\sub-05\\sub-05_T1w.h5\n",
      "========================\n",
      "There're 20 samples in total.\n"
     ]
    }
   ],
   "source": [
    "# Get file path list\n",
    "\n",
    "#file_id = 0\n",
    "file_path_list = []\n",
    "\n",
    "for (dirpath, dirnames, filenames) in os.walk(Data_path):\n",
    "    #file_id += 1\n",
    "    #print(dirpath)\n",
    "    #print(dirnames)\n",
    "    #print(filenames)\n",
    "    #print(\"------------\")\n",
    "    if len(filenames) > 0:\n",
    "        if len(filenames) > 1:\n",
    "            print(\"! error: Multiple samples in a dir.\")\n",
    "        filepath = os.path.join(dirpath, filenames[0])\n",
    "        print(filepath)\n",
    "        file_path_list.append(filepath)\n",
    "\n",
    "print(\"========================\")\n",
    "print(\"There're {} samples in total.\".format(len(file_path_list)))"
   ]
  },
  {
   "cell_type": "code",
   "execution_count": 12,
   "id": "e882c874-773e-40a6-a5e7-bd19593bac2c",
   "metadata": {},
   "outputs": [
    {
     "data": {
      "text/html": [
       "<div>\n",
       "<style scoped>\n",
       "    .dataframe tbody tr th:only-of-type {\n",
       "        vertical-align: middle;\n",
       "    }\n",
       "\n",
       "    .dataframe tbody tr th {\n",
       "        vertical-align: top;\n",
       "    }\n",
       "\n",
       "    .dataframe thead th {\n",
       "        text-align: right;\n",
       "    }\n",
       "</style>\n",
       "<table border=\"1\" class=\"dataframe\">\n",
       "  <thead>\n",
       "    <tr style=\"text-align: right;\">\n",
       "      <th></th>\n",
       "      <th>path</th>\n",
       "    </tr>\n",
       "  </thead>\n",
       "  <tbody>\n",
       "    <tr>\n",
       "      <th>0</th>\n",
       "      <td>../data_small/preprocessed\\AOMIC\\ds002785\\sub-...</td>\n",
       "    </tr>\n",
       "    <tr>\n",
       "      <th>1</th>\n",
       "      <td>../data_small/preprocessed\\AOMIC\\ds002785\\sub-...</td>\n",
       "    </tr>\n",
       "    <tr>\n",
       "      <th>2</th>\n",
       "      <td>../data_small/preprocessed\\AOMIC\\ds002785\\sub-...</td>\n",
       "    </tr>\n",
       "    <tr>\n",
       "      <th>3</th>\n",
       "      <td>../data_small/preprocessed\\AOMIC\\ds002785\\sub-...</td>\n",
       "    </tr>\n",
       "    <tr>\n",
       "      <th>4</th>\n",
       "      <td>../data_small/preprocessed\\AOMIC\\ds002785\\sub-...</td>\n",
       "    </tr>\n",
       "  </tbody>\n",
       "</table>\n",
       "</div>"
      ],
      "text/plain": [
       "                                                path\n",
       "0  ../data_small/preprocessed\\AOMIC\\ds002785\\sub-...\n",
       "1  ../data_small/preprocessed\\AOMIC\\ds002785\\sub-...\n",
       "2  ../data_small/preprocessed\\AOMIC\\ds002785\\sub-...\n",
       "3  ../data_small/preprocessed\\AOMIC\\ds002785\\sub-...\n",
       "4  ../data_small/preprocessed\\AOMIC\\ds002785\\sub-..."
      ]
     },
     "execution_count": 12,
     "metadata": {},
     "output_type": "execute_result"
    }
   ],
   "source": [
    "my_info_df0 = pd.DataFrame(file_path_list, columns = [\"path\"])\n",
    "my_info_df0.head()"
   ]
  },
  {
   "cell_type": "markdown",
   "id": "cee91b54-fae3-4e9c-8199-1d917fa183de",
   "metadata": {},
   "source": [
    "## Read in the clinical information about the data"
   ]
  },
  {
   "cell_type": "code",
   "execution_count": 13,
   "id": "850c62b2-a0eb-4100-a71c-237981bec40b",
   "metadata": {},
   "outputs": [],
   "source": [
    "info_df = pd.read_csv(Info_path)"
   ]
  },
  {
   "cell_type": "code",
   "execution_count": 14,
   "id": "8d1aa6e6-a596-4161-b9d0-fab7899e28ab",
   "metadata": {},
   "outputs": [
    {
     "data": {
      "text/html": [
       "<div>\n",
       "<style scoped>\n",
       "    .dataframe tbody tr th:only-of-type {\n",
       "        vertical-align: middle;\n",
       "    }\n",
       "\n",
       "    .dataframe tbody tr th {\n",
       "        vertical-align: top;\n",
       "    }\n",
       "\n",
       "    .dataframe thead th {\n",
       "        text-align: right;\n",
       "    }\n",
       "</style>\n",
       "<table border=\"1\" class=\"dataframe\">\n",
       "  <thead>\n",
       "    <tr style=\"text-align: right;\">\n",
       "      <th></th>\n",
       "      <th>study</th>\n",
       "      <th>participant_id</th>\n",
       "      <th>sex</th>\n",
       "      <th>age</th>\n",
       "      <th>status</th>\n",
       "    </tr>\n",
       "  </thead>\n",
       "  <tbody>\n",
       "    <tr>\n",
       "      <th>0</th>\n",
       "      <td>ABIDE_I/CMU_a</td>\n",
       "      <td>sub-0050642</td>\n",
       "      <td>0.0</td>\n",
       "      <td>33.00</td>\n",
       "      <td>ASD</td>\n",
       "    </tr>\n",
       "    <tr>\n",
       "      <th>1</th>\n",
       "      <td>ABIDE_I/CMU_a</td>\n",
       "      <td>sub-0050646</td>\n",
       "      <td>0.0</td>\n",
       "      <td>21.00</td>\n",
       "      <td>ASD</td>\n",
       "    </tr>\n",
       "    <tr>\n",
       "      <th>2</th>\n",
       "      <td>ABIDE_I/CMU_a</td>\n",
       "      <td>sub-0050647</td>\n",
       "      <td>0.0</td>\n",
       "      <td>27.00</td>\n",
       "      <td>ASD</td>\n",
       "    </tr>\n",
       "    <tr>\n",
       "      <th>3</th>\n",
       "      <td>ABIDE_I/CMU_a</td>\n",
       "      <td>sub-0050649</td>\n",
       "      <td>0.0</td>\n",
       "      <td>22.00</td>\n",
       "      <td>ASD</td>\n",
       "    </tr>\n",
       "    <tr>\n",
       "      <th>4</th>\n",
       "      <td>ABIDE_I/CMU_a</td>\n",
       "      <td>sub-0050653</td>\n",
       "      <td>0.0</td>\n",
       "      <td>30.00</td>\n",
       "      <td>ASD</td>\n",
       "    </tr>\n",
       "    <tr>\n",
       "      <th>...</th>\n",
       "      <td>...</td>\n",
       "      <td>...</td>\n",
       "      <td>...</td>\n",
       "      <td>...</td>\n",
       "      <td>...</td>\n",
       "    </tr>\n",
       "    <tr>\n",
       "      <th>11168</th>\n",
       "      <td>STRADL</td>\n",
       "      <td>ST1GDU2661</td>\n",
       "      <td>1.0</td>\n",
       "      <td>57.28</td>\n",
       "      <td>MDD</td>\n",
       "    </tr>\n",
       "    <tr>\n",
       "      <th>11169</th>\n",
       "      <td>STRADL</td>\n",
       "      <td>ST1GDU2663</td>\n",
       "      <td>1.0</td>\n",
       "      <td>69.12</td>\n",
       "      <td>MDD</td>\n",
       "    </tr>\n",
       "    <tr>\n",
       "      <th>11170</th>\n",
       "      <td>STRADL</td>\n",
       "      <td>ST1GDU2664</td>\n",
       "      <td>0.0</td>\n",
       "      <td>37.08</td>\n",
       "      <td>HC</td>\n",
       "    </tr>\n",
       "    <tr>\n",
       "      <th>11171</th>\n",
       "      <td>STRADL</td>\n",
       "      <td>ST1GDU2665</td>\n",
       "      <td>1.0</td>\n",
       "      <td>51.37</td>\n",
       "      <td>MDD</td>\n",
       "    </tr>\n",
       "    <tr>\n",
       "      <th>11172</th>\n",
       "      <td>STRADL</td>\n",
       "      <td>ST1GDU2666</td>\n",
       "      <td>1.0</td>\n",
       "      <td>46.45</td>\n",
       "      <td>MDD</td>\n",
       "    </tr>\n",
       "  </tbody>\n",
       "</table>\n",
       "<p>11173 rows × 5 columns</p>\n",
       "</div>"
      ],
      "text/plain": [
       "               study participant_id  sex    age status\n",
       "0      ABIDE_I/CMU_a    sub-0050642  0.0  33.00    ASD\n",
       "1      ABIDE_I/CMU_a    sub-0050646  0.0  21.00    ASD\n",
       "2      ABIDE_I/CMU_a    sub-0050647  0.0  27.00    ASD\n",
       "3      ABIDE_I/CMU_a    sub-0050649  0.0  22.00    ASD\n",
       "4      ABIDE_I/CMU_a    sub-0050653  0.0  30.00    ASD\n",
       "...              ...            ...  ...    ...    ...\n",
       "11168         STRADL     ST1GDU2661  1.0  57.28    MDD\n",
       "11169         STRADL     ST1GDU2663  1.0  69.12    MDD\n",
       "11170         STRADL     ST1GDU2664  0.0  37.08     HC\n",
       "11171         STRADL     ST1GDU2665  1.0  51.37    MDD\n",
       "11172         STRADL     ST1GDU2666  1.0  46.45    MDD\n",
       "\n",
       "[11173 rows x 5 columns]"
      ]
     },
     "execution_count": 14,
     "metadata": {},
     "output_type": "execute_result"
    }
   ],
   "source": [
    "info_df"
   ]
  },
  {
   "cell_type": "markdown",
   "id": "b6e39723-436f-40bd-b2a9-47ffb12b92b5",
   "metadata": {},
   "source": [
    "## Extract corresponding key column content from data path"
   ]
  },
  {
   "cell_type": "code",
   "execution_count": 15,
   "id": "013f3889-d553-4ea3-9e18-99960622e6da",
   "metadata": {},
   "outputs": [
    {
     "data": {
      "text/plain": [
       "('AOMIC/ds002785', 'sub-0001')"
      ]
     },
     "execution_count": 15,
     "metadata": {},
     "output_type": "execute_result"
    }
   ],
   "source": [
    "## This part needs to be changed if file tree changes in the UKB data\n",
    "\n",
    "def extract_study_id_from_relative_path(path):\n",
    "    \"\"\"\n",
    "    Input example: ../data_small/preprocessed\\AOMIC\\ds002785\\sub-0001\\sub-0001_T1w.h5\n",
    "                or ../data_small/preprocessed\\ds000119\\sub-01\\sub-01_T1w.h5\n",
    "    Return study and participant_id to query the clinical_data table\n",
    "    \"\"\"\n",
    "    path = path.replace(Data_path, '')\n",
    "    path_content = path.split(\"\\\\\")  ## list\n",
    "    if len(path_content) == 5:\n",
    "        participant_id = path_content[3]\n",
    "        study = path_content[1] + \"/\" + path_content[2]\n",
    "    elif len(path_content) == 4:\n",
    "        participant_id = path_content[2]\n",
    "        study = path_content[1]\n",
    "    else:\n",
    "        print(\"! error: cannot find corresponding 'study' and 'participant_id'.\")\n",
    "    return study, participant_id\n",
    "\n",
    "extract_study_id_from_relative_path(file_path_list[0])"
   ]
  },
  {
   "cell_type": "code",
   "execution_count": 16,
   "id": "306de35a-ee3c-4c42-a45d-fec936bb26a7",
   "metadata": {},
   "outputs": [],
   "source": [
    "def assign_study_id_to_df(row):\n",
    "    \"\"\"\n",
    "    each row, take in the path, \n",
    "    extract info on study and participant id\n",
    "    assign to corrsponding columns\n",
    "    \"\"\"\n",
    "    study_id = extract_study_id_from_relative_path(row[\"path\"])\n",
    "    row[\"study\"] = study_id[0]\n",
    "    row[\"participant_id\"] = study_id[1]\n",
    "    return row"
   ]
  },
  {
   "cell_type": "code",
   "execution_count": 17,
   "id": "81087f5c-c04c-4a78-a815-bacc41e20530",
   "metadata": {},
   "outputs": [
    {
     "data": {
      "text/html": [
       "<div>\n",
       "<style scoped>\n",
       "    .dataframe tbody tr th:only-of-type {\n",
       "        vertical-align: middle;\n",
       "    }\n",
       "\n",
       "    .dataframe tbody tr th {\n",
       "        vertical-align: top;\n",
       "    }\n",
       "\n",
       "    .dataframe thead th {\n",
       "        text-align: right;\n",
       "    }\n",
       "</style>\n",
       "<table border=\"1\" class=\"dataframe\">\n",
       "  <thead>\n",
       "    <tr style=\"text-align: right;\">\n",
       "      <th></th>\n",
       "      <th>path</th>\n",
       "      <th>study</th>\n",
       "      <th>participant_id</th>\n",
       "    </tr>\n",
       "  </thead>\n",
       "  <tbody>\n",
       "    <tr>\n",
       "      <th>0</th>\n",
       "      <td>../data_small/preprocessed\\AOMIC\\ds002785\\sub-...</td>\n",
       "      <td>AOMIC/ds002785</td>\n",
       "      <td>sub-0001</td>\n",
       "    </tr>\n",
       "    <tr>\n",
       "      <th>1</th>\n",
       "      <td>../data_small/preprocessed\\AOMIC\\ds002785\\sub-...</td>\n",
       "      <td>AOMIC/ds002785</td>\n",
       "      <td>sub-0002</td>\n",
       "    </tr>\n",
       "    <tr>\n",
       "      <th>2</th>\n",
       "      <td>../data_small/preprocessed\\AOMIC\\ds002785\\sub-...</td>\n",
       "      <td>AOMIC/ds002785</td>\n",
       "      <td>sub-0003</td>\n",
       "    </tr>\n",
       "    <tr>\n",
       "      <th>3</th>\n",
       "      <td>../data_small/preprocessed\\AOMIC\\ds002785\\sub-...</td>\n",
       "      <td>AOMIC/ds002785</td>\n",
       "      <td>sub-0004</td>\n",
       "    </tr>\n",
       "    <tr>\n",
       "      <th>4</th>\n",
       "      <td>../data_small/preprocessed\\AOMIC\\ds002785\\sub-...</td>\n",
       "      <td>AOMIC/ds002785</td>\n",
       "      <td>sub-0005</td>\n",
       "    </tr>\n",
       "  </tbody>\n",
       "</table>\n",
       "</div>"
      ],
      "text/plain": [
       "                                                path           study  \\\n",
       "0  ../data_small/preprocessed\\AOMIC\\ds002785\\sub-...  AOMIC/ds002785   \n",
       "1  ../data_small/preprocessed\\AOMIC\\ds002785\\sub-...  AOMIC/ds002785   \n",
       "2  ../data_small/preprocessed\\AOMIC\\ds002785\\sub-...  AOMIC/ds002785   \n",
       "3  ../data_small/preprocessed\\AOMIC\\ds002785\\sub-...  AOMIC/ds002785   \n",
       "4  ../data_small/preprocessed\\AOMIC\\ds002785\\sub-...  AOMIC/ds002785   \n",
       "\n",
       "  participant_id  \n",
       "0       sub-0001  \n",
       "1       sub-0002  \n",
       "2       sub-0003  \n",
       "3       sub-0004  \n",
       "4       sub-0005  "
      ]
     },
     "execution_count": 17,
     "metadata": {},
     "output_type": "execute_result"
    }
   ],
   "source": [
    "my_info_df1 = my_info_df0.apply(assign_study_id_to_df, axis=1)\n",
    "my_info_df1.head()"
   ]
  },
  {
   "cell_type": "markdown",
   "id": "0a6b697c-1883-4b2a-9cd5-0667c39369d8",
   "metadata": {},
   "source": [
    "## Match data with clinical info"
   ]
  },
  {
   "cell_type": "code",
   "execution_count": 18,
   "id": "29d59d3b-5f03-46f4-a532-f9469b54a792",
   "metadata": {},
   "outputs": [],
   "source": [
    "# perform inner-join\n",
    "my_info_df2 = my_info_df1.merge(info_df, on=[\"study\", \"participant_id\"])"
   ]
  },
  {
   "cell_type": "code",
   "execution_count": 19,
   "id": "f8b295e8-6417-485e-829f-8c90839bde43",
   "metadata": {},
   "outputs": [
    {
     "data": {
      "text/html": [
       "<div>\n",
       "<style scoped>\n",
       "    .dataframe tbody tr th:only-of-type {\n",
       "        vertical-align: middle;\n",
       "    }\n",
       "\n",
       "    .dataframe tbody tr th {\n",
       "        vertical-align: top;\n",
       "    }\n",
       "\n",
       "    .dataframe thead th {\n",
       "        text-align: right;\n",
       "    }\n",
       "</style>\n",
       "<table border=\"1\" class=\"dataframe\">\n",
       "  <thead>\n",
       "    <tr style=\"text-align: right;\">\n",
       "      <th></th>\n",
       "      <th>path</th>\n",
       "      <th>study</th>\n",
       "      <th>participant_id</th>\n",
       "      <th>sex</th>\n",
       "      <th>age</th>\n",
       "      <th>status</th>\n",
       "    </tr>\n",
       "  </thead>\n",
       "  <tbody>\n",
       "    <tr>\n",
       "      <th>0</th>\n",
       "      <td>../data_small/preprocessed\\AOMIC\\ds002785\\sub-...</td>\n",
       "      <td>AOMIC/ds002785</td>\n",
       "      <td>sub-0001</td>\n",
       "      <td>1.0</td>\n",
       "      <td>26.2500</td>\n",
       "      <td>HC</td>\n",
       "    </tr>\n",
       "    <tr>\n",
       "      <th>1</th>\n",
       "      <td>../data_small/preprocessed\\AOMIC\\ds002785\\sub-...</td>\n",
       "      <td>AOMIC/ds002785</td>\n",
       "      <td>sub-0002</td>\n",
       "      <td>1.0</td>\n",
       "      <td>21.0000</td>\n",
       "      <td>HC</td>\n",
       "    </tr>\n",
       "    <tr>\n",
       "      <th>2</th>\n",
       "      <td>../data_small/preprocessed\\AOMIC\\ds002785\\sub-...</td>\n",
       "      <td>AOMIC/ds002785</td>\n",
       "      <td>sub-0003</td>\n",
       "      <td>0.0</td>\n",
       "      <td>23.0000</td>\n",
       "      <td>HC</td>\n",
       "    </tr>\n",
       "    <tr>\n",
       "      <th>3</th>\n",
       "      <td>../data_small/preprocessed\\AOMIC\\ds002785\\sub-...</td>\n",
       "      <td>AOMIC/ds002785</td>\n",
       "      <td>sub-0004</td>\n",
       "      <td>1.0</td>\n",
       "      <td>23.5000</td>\n",
       "      <td>HC</td>\n",
       "    </tr>\n",
       "    <tr>\n",
       "      <th>4</th>\n",
       "      <td>../data_small/preprocessed\\AOMIC\\ds002785\\sub-...</td>\n",
       "      <td>AOMIC/ds002785</td>\n",
       "      <td>sub-0005</td>\n",
       "      <td>0.0</td>\n",
       "      <td>21.7500</td>\n",
       "      <td>HC</td>\n",
       "    </tr>\n",
       "    <tr>\n",
       "      <th>5</th>\n",
       "      <td>../data_small/preprocessed\\AOMIC\\ds002790\\sub-...</td>\n",
       "      <td>AOMIC/ds002790</td>\n",
       "      <td>sub-0001</td>\n",
       "      <td>0.0</td>\n",
       "      <td>25.5000</td>\n",
       "      <td>HC</td>\n",
       "    </tr>\n",
       "    <tr>\n",
       "      <th>6</th>\n",
       "      <td>../data_small/preprocessed\\AOMIC\\ds002790\\sub-...</td>\n",
       "      <td>AOMIC/ds002790</td>\n",
       "      <td>sub-0002</td>\n",
       "      <td>1.0</td>\n",
       "      <td>23.2500</td>\n",
       "      <td>HC</td>\n",
       "    </tr>\n",
       "    <tr>\n",
       "      <th>7</th>\n",
       "      <td>../data_small/preprocessed\\AOMIC\\ds002790\\sub-...</td>\n",
       "      <td>AOMIC/ds002790</td>\n",
       "      <td>sub-0003</td>\n",
       "      <td>1.0</td>\n",
       "      <td>25.0000</td>\n",
       "      <td>HC</td>\n",
       "    </tr>\n",
       "    <tr>\n",
       "      <th>8</th>\n",
       "      <td>../data_small/preprocessed\\AOMIC\\ds002790\\sub-...</td>\n",
       "      <td>AOMIC/ds002790</td>\n",
       "      <td>sub-0004</td>\n",
       "      <td>1.0</td>\n",
       "      <td>20.0000</td>\n",
       "      <td>HC</td>\n",
       "    </tr>\n",
       "    <tr>\n",
       "      <th>9</th>\n",
       "      <td>../data_small/preprocessed\\AOMIC\\ds002790\\sub-...</td>\n",
       "      <td>AOMIC/ds002790</td>\n",
       "      <td>sub-0005</td>\n",
       "      <td>0.0</td>\n",
       "      <td>24.7500</td>\n",
       "      <td>HC</td>\n",
       "    </tr>\n",
       "    <tr>\n",
       "      <th>10</th>\n",
       "      <td>../data_small/preprocessed\\AOMIC\\ds003097\\sub-...</td>\n",
       "      <td>AOMIC/ds003097</td>\n",
       "      <td>sub-0001</td>\n",
       "      <td>1.0</td>\n",
       "      <td>22.0000</td>\n",
       "      <td>HC</td>\n",
       "    </tr>\n",
       "    <tr>\n",
       "      <th>11</th>\n",
       "      <td>../data_small/preprocessed\\AOMIC\\ds003097\\sub-...</td>\n",
       "      <td>AOMIC/ds003097</td>\n",
       "      <td>sub-0002</td>\n",
       "      <td>1.0</td>\n",
       "      <td>21.7500</td>\n",
       "      <td>HC</td>\n",
       "    </tr>\n",
       "    <tr>\n",
       "      <th>12</th>\n",
       "      <td>../data_small/preprocessed\\AOMIC\\ds003097\\sub-...</td>\n",
       "      <td>AOMIC/ds003097</td>\n",
       "      <td>sub-0003</td>\n",
       "      <td>1.0</td>\n",
       "      <td>25.2500</td>\n",
       "      <td>HC</td>\n",
       "    </tr>\n",
       "    <tr>\n",
       "      <th>13</th>\n",
       "      <td>../data_small/preprocessed\\AOMIC\\ds003097\\sub-...</td>\n",
       "      <td>AOMIC/ds003097</td>\n",
       "      <td>sub-0004</td>\n",
       "      <td>1.0</td>\n",
       "      <td>22.5000</td>\n",
       "      <td>HC</td>\n",
       "    </tr>\n",
       "    <tr>\n",
       "      <th>14</th>\n",
       "      <td>../data_small/preprocessed\\AOMIC\\ds003097\\sub-...</td>\n",
       "      <td>AOMIC/ds003097</td>\n",
       "      <td>sub-0005</td>\n",
       "      <td>0.0</td>\n",
       "      <td>22.2500</td>\n",
       "      <td>HC</td>\n",
       "    </tr>\n",
       "    <tr>\n",
       "      <th>15</th>\n",
       "      <td>../data_small/preprocessed\\ds000119\\sub-01\\sub...</td>\n",
       "      <td>ds000119</td>\n",
       "      <td>sub-01</td>\n",
       "      <td>0.0</td>\n",
       "      <td>15.1184</td>\n",
       "      <td>HC</td>\n",
       "    </tr>\n",
       "    <tr>\n",
       "      <th>16</th>\n",
       "      <td>../data_small/preprocessed\\ds000119\\sub-02\\sub...</td>\n",
       "      <td>ds000119</td>\n",
       "      <td>sub-02</td>\n",
       "      <td>1.0</td>\n",
       "      <td>26.5325</td>\n",
       "      <td>HC</td>\n",
       "    </tr>\n",
       "    <tr>\n",
       "      <th>17</th>\n",
       "      <td>../data_small/preprocessed\\ds000119\\sub-03\\sub...</td>\n",
       "      <td>ds000119</td>\n",
       "      <td>sub-03</td>\n",
       "      <td>1.0</td>\n",
       "      <td>8.4517</td>\n",
       "      <td>HC</td>\n",
       "    </tr>\n",
       "    <tr>\n",
       "      <th>18</th>\n",
       "      <td>../data_small/preprocessed\\ds000119\\sub-04\\sub...</td>\n",
       "      <td>ds000119</td>\n",
       "      <td>sub-04</td>\n",
       "      <td>0.0</td>\n",
       "      <td>11.3895</td>\n",
       "      <td>HC</td>\n",
       "    </tr>\n",
       "    <tr>\n",
       "      <th>19</th>\n",
       "      <td>../data_small/preprocessed\\ds000119\\sub-05\\sub...</td>\n",
       "      <td>ds000119</td>\n",
       "      <td>sub-05</td>\n",
       "      <td>0.0</td>\n",
       "      <td>12.0794</td>\n",
       "      <td>HC</td>\n",
       "    </tr>\n",
       "  </tbody>\n",
       "</table>\n",
       "</div>"
      ],
      "text/plain": [
       "                                                 path           study  \\\n",
       "0   ../data_small/preprocessed\\AOMIC\\ds002785\\sub-...  AOMIC/ds002785   \n",
       "1   ../data_small/preprocessed\\AOMIC\\ds002785\\sub-...  AOMIC/ds002785   \n",
       "2   ../data_small/preprocessed\\AOMIC\\ds002785\\sub-...  AOMIC/ds002785   \n",
       "3   ../data_small/preprocessed\\AOMIC\\ds002785\\sub-...  AOMIC/ds002785   \n",
       "4   ../data_small/preprocessed\\AOMIC\\ds002785\\sub-...  AOMIC/ds002785   \n",
       "5   ../data_small/preprocessed\\AOMIC\\ds002790\\sub-...  AOMIC/ds002790   \n",
       "6   ../data_small/preprocessed\\AOMIC\\ds002790\\sub-...  AOMIC/ds002790   \n",
       "7   ../data_small/preprocessed\\AOMIC\\ds002790\\sub-...  AOMIC/ds002790   \n",
       "8   ../data_small/preprocessed\\AOMIC\\ds002790\\sub-...  AOMIC/ds002790   \n",
       "9   ../data_small/preprocessed\\AOMIC\\ds002790\\sub-...  AOMIC/ds002790   \n",
       "10  ../data_small/preprocessed\\AOMIC\\ds003097\\sub-...  AOMIC/ds003097   \n",
       "11  ../data_small/preprocessed\\AOMIC\\ds003097\\sub-...  AOMIC/ds003097   \n",
       "12  ../data_small/preprocessed\\AOMIC\\ds003097\\sub-...  AOMIC/ds003097   \n",
       "13  ../data_small/preprocessed\\AOMIC\\ds003097\\sub-...  AOMIC/ds003097   \n",
       "14  ../data_small/preprocessed\\AOMIC\\ds003097\\sub-...  AOMIC/ds003097   \n",
       "15  ../data_small/preprocessed\\ds000119\\sub-01\\sub...        ds000119   \n",
       "16  ../data_small/preprocessed\\ds000119\\sub-02\\sub...        ds000119   \n",
       "17  ../data_small/preprocessed\\ds000119\\sub-03\\sub...        ds000119   \n",
       "18  ../data_small/preprocessed\\ds000119\\sub-04\\sub...        ds000119   \n",
       "19  ../data_small/preprocessed\\ds000119\\sub-05\\sub...        ds000119   \n",
       "\n",
       "   participant_id  sex      age status  \n",
       "0        sub-0001  1.0  26.2500     HC  \n",
       "1        sub-0002  1.0  21.0000     HC  \n",
       "2        sub-0003  0.0  23.0000     HC  \n",
       "3        sub-0004  1.0  23.5000     HC  \n",
       "4        sub-0005  0.0  21.7500     HC  \n",
       "5        sub-0001  0.0  25.5000     HC  \n",
       "6        sub-0002  1.0  23.2500     HC  \n",
       "7        sub-0003  1.0  25.0000     HC  \n",
       "8        sub-0004  1.0  20.0000     HC  \n",
       "9        sub-0005  0.0  24.7500     HC  \n",
       "10       sub-0001  1.0  22.0000     HC  \n",
       "11       sub-0002  1.0  21.7500     HC  \n",
       "12       sub-0003  1.0  25.2500     HC  \n",
       "13       sub-0004  1.0  22.5000     HC  \n",
       "14       sub-0005  0.0  22.2500     HC  \n",
       "15         sub-01  0.0  15.1184     HC  \n",
       "16         sub-02  1.0  26.5325     HC  \n",
       "17         sub-03  1.0   8.4517     HC  \n",
       "18         sub-04  0.0  11.3895     HC  \n",
       "19         sub-05  0.0  12.0794     HC  "
      ]
     },
     "execution_count": 19,
     "metadata": {},
     "output_type": "execute_result"
    }
   ],
   "source": [
    "my_info_df2"
   ]
  },
  {
   "cell_type": "code",
   "execution_count": 6,
   "id": "9a6a7e85-c5b9-44a2-9e27-d66975669f6a",
   "metadata": {},
   "outputs": [],
   "source": [
    "# save the dataframe so that we can load it directly next time\n",
    "#my_info_df2.to_pickle(\"./df_info_path_data_small.pkl\")\n",
    "my_info_df2 = pd.read_pickle(\"./df_info_path_data_small.pkl\")"
   ]
  },
  {
   "cell_type": "markdown",
   "id": "3deda824-87ce-4872-96d5-3666b8c90813",
   "metadata": {},
   "source": [
    "## Create a large dataset of 3-D brain scan arrays\n",
    "?? too much data may not fit into the memory"
   ]
  },
  {
   "cell_type": "markdown",
   "id": "5402e6a7-979d-45af-8d79-e8b809aa1ead",
   "metadata": {},
   "source": [
    "### Find the np array of each sample"
   ]
  },
  {
   "cell_type": "code",
   "execution_count": 21,
   "id": "fbffb7ed-ce73-4ae0-a8bb-3ac9aeeb5c0f",
   "metadata": {},
   "outputs": [
    {
     "data": {
      "text/plain": [
       "(160, 192, 160)"
      ]
     },
     "execution_count": 21,
     "metadata": {},
     "output_type": "execute_result"
    }
   ],
   "source": [
    "def extract_np_array_from_h5(h5_path):\n",
    "    \"\"\"\n",
    "    Input: one .h5 path of a preprocessed sample\n",
    "    Return: np array of the .h5 file\n",
    "    \"\"\"\n",
    "    img_h5 = h5py.File(h5_path, 'r')\n",
    "    img_arr = np.array(img_h5['preprocessed_volume']) ## size: (160, 192, 160)\n",
    "    return img_arr\n",
    "\n",
    "extract_np_array_from_h5(my_info_df2[\"path\"][0]).shape"
   ]
  },
  {
   "cell_type": "code",
   "execution_count": 22,
   "id": "c5810d05-f4d3-4eff-9200-7f07fa6be59c",
   "metadata": {},
   "outputs": [],
   "source": [
    "def assign_data_array_to_df(row):\n",
    "    \"\"\"\n",
    "    for each row in a dataframe, based on the \"path\" column, \n",
    "    form the np array of size (1, 160, 192, 160) of the brain scan, assign it to the \"image\" volumn\n",
    "    return the new row\n",
    "    \"\"\"\n",
    "    img_arr = extract_np_array_from_h5(row[\"path\"])\n",
    "    sp = (1,) + img_arr.shape\n",
    "    img_arr_reshape= img_arr.reshape(sp)  ## size: (1, 160, 192, 160)\n",
    "    row[\"image\"] = img_arr_reshape\n",
    "    return row"
   ]
  },
  {
   "cell_type": "code",
   "execution_count": 23,
   "id": "6ead2ae9-cfea-493f-93c4-76da495df1ee",
   "metadata": {},
   "outputs": [
    {
     "data": {
      "text/html": [
       "<div>\n",
       "<style scoped>\n",
       "    .dataframe tbody tr th:only-of-type {\n",
       "        vertical-align: middle;\n",
       "    }\n",
       "\n",
       "    .dataframe tbody tr th {\n",
       "        vertical-align: top;\n",
       "    }\n",
       "\n",
       "    .dataframe thead th {\n",
       "        text-align: right;\n",
       "    }\n",
       "</style>\n",
       "<table border=\"1\" class=\"dataframe\">\n",
       "  <thead>\n",
       "    <tr style=\"text-align: right;\">\n",
       "      <th></th>\n",
       "      <th>path</th>\n",
       "      <th>study</th>\n",
       "      <th>participant_id</th>\n",
       "      <th>sex</th>\n",
       "      <th>age</th>\n",
       "      <th>status</th>\n",
       "      <th>image</th>\n",
       "    </tr>\n",
       "  </thead>\n",
       "  <tbody>\n",
       "    <tr>\n",
       "      <th>0</th>\n",
       "      <td>../data_small/preprocessed\\AOMIC\\ds002785\\sub-...</td>\n",
       "      <td>AOMIC/ds002785</td>\n",
       "      <td>sub-0001</td>\n",
       "      <td>1.0</td>\n",
       "      <td>26.25</td>\n",
       "      <td>HC</td>\n",
       "      <td>[[[[-0.49228448 -0.49228448 -0.49228448 -0.492...</td>\n",
       "    </tr>\n",
       "    <tr>\n",
       "      <th>1</th>\n",
       "      <td>../data_small/preprocessed\\AOMIC\\ds002785\\sub-...</td>\n",
       "      <td>AOMIC/ds002785</td>\n",
       "      <td>sub-0002</td>\n",
       "      <td>1.0</td>\n",
       "      <td>21.00</td>\n",
       "      <td>HC</td>\n",
       "      <td>[[[[-0.51895345 -0.51895345 -0.51895345 -0.518...</td>\n",
       "    </tr>\n",
       "    <tr>\n",
       "      <th>2</th>\n",
       "      <td>../data_small/preprocessed\\AOMIC\\ds002785\\sub-...</td>\n",
       "      <td>AOMIC/ds002785</td>\n",
       "      <td>sub-0003</td>\n",
       "      <td>0.0</td>\n",
       "      <td>23.00</td>\n",
       "      <td>HC</td>\n",
       "      <td>[[[[-0.52216812 -0.52216812 -0.52216812 -0.522...</td>\n",
       "    </tr>\n",
       "    <tr>\n",
       "      <th>3</th>\n",
       "      <td>../data_small/preprocessed\\AOMIC\\ds002785\\sub-...</td>\n",
       "      <td>AOMIC/ds002785</td>\n",
       "      <td>sub-0004</td>\n",
       "      <td>1.0</td>\n",
       "      <td>23.50</td>\n",
       "      <td>HC</td>\n",
       "      <td>[[[[-0.52262488 -0.52262488 -0.52262488 -0.522...</td>\n",
       "    </tr>\n",
       "    <tr>\n",
       "      <th>4</th>\n",
       "      <td>../data_small/preprocessed\\AOMIC\\ds002785\\sub-...</td>\n",
       "      <td>AOMIC/ds002785</td>\n",
       "      <td>sub-0005</td>\n",
       "      <td>0.0</td>\n",
       "      <td>21.75</td>\n",
       "      <td>HC</td>\n",
       "      <td>[[[[-0.51179709 -0.51179709 -0.51179709 -0.511...</td>\n",
       "    </tr>\n",
       "  </tbody>\n",
       "</table>\n",
       "</div>"
      ],
      "text/plain": [
       "                                                path           study  \\\n",
       "0  ../data_small/preprocessed\\AOMIC\\ds002785\\sub-...  AOMIC/ds002785   \n",
       "1  ../data_small/preprocessed\\AOMIC\\ds002785\\sub-...  AOMIC/ds002785   \n",
       "2  ../data_small/preprocessed\\AOMIC\\ds002785\\sub-...  AOMIC/ds002785   \n",
       "3  ../data_small/preprocessed\\AOMIC\\ds002785\\sub-...  AOMIC/ds002785   \n",
       "4  ../data_small/preprocessed\\AOMIC\\ds002785\\sub-...  AOMIC/ds002785   \n",
       "\n",
       "  participant_id  sex    age status  \\\n",
       "0       sub-0001  1.0  26.25     HC   \n",
       "1       sub-0002  1.0  21.00     HC   \n",
       "2       sub-0003  0.0  23.00     HC   \n",
       "3       sub-0004  1.0  23.50     HC   \n",
       "4       sub-0005  0.0  21.75     HC   \n",
       "\n",
       "                                               image  \n",
       "0  [[[[-0.49228448 -0.49228448 -0.49228448 -0.492...  \n",
       "1  [[[[-0.51895345 -0.51895345 -0.51895345 -0.518...  \n",
       "2  [[[[-0.52216812 -0.52216812 -0.52216812 -0.522...  \n",
       "3  [[[[-0.52262488 -0.52262488 -0.52262488 -0.522...  \n",
       "4  [[[[-0.51179709 -0.51179709 -0.51179709 -0.511...  "
      ]
     },
     "execution_count": 23,
     "metadata": {},
     "output_type": "execute_result"
    }
   ],
   "source": [
    "my_info_df3 = my_info_df2.apply(assign_data_array_to_df, axis=1)\n",
    "my_info_df3.head()"
   ]
  },
  {
   "cell_type": "code",
   "execution_count": 24,
   "id": "9c010eb3-ad0a-446f-aaf0-34b595a46cf4",
   "metadata": {},
   "outputs": [
    {
     "name": "stdout",
     "output_type": "stream",
     "text": [
      "<class 'pandas.core.series.Series'>\n",
      "(1, 160, 192, 160)\n"
     ]
    }
   ],
   "source": [
    "print(type(my_info_df3[\"image\"]))\n",
    "print(my_info_df3[\"image\"][0].shape)"
   ]
  },
  {
   "cell_type": "markdown",
   "id": "389f9ac0-7976-4c6c-9b47-d7f41d5e63fa",
   "metadata": {},
   "source": [
    "### Stack the 3-D image arrays"
   ]
  },
  {
   "cell_type": "code",
   "execution_count": 25,
   "id": "be4d8d70-797c-4687-8375-a4bfaed25dda",
   "metadata": {},
   "outputs": [
    {
     "data": {
      "text/plain": [
       "(20, 1, 160, 192, 160)"
      ]
     },
     "execution_count": 25,
     "metadata": {},
     "output_type": "execute_result"
    }
   ],
   "source": [
    "img_data_small = np.stack(my_info_df3[\"image\"], axis=0)  ## np array\n",
    "img_data_small.shape"
   ]
  },
  {
   "cell_type": "code",
   "execution_count": 26,
   "id": "c4a1ef5b-cc30-48d9-ad2a-8cd09fe0a36a",
   "metadata": {},
   "outputs": [
    {
     "data": {
      "text/plain": [
       "numpy.ndarray"
      ]
     },
     "execution_count": 26,
     "metadata": {},
     "output_type": "execute_result"
    }
   ],
   "source": [
    "type(img_data_small)"
   ]
  },
  {
   "cell_type": "code",
   "execution_count": 5,
   "id": "3c4edd71-beaf-4e8a-95ca-c0c02185d540",
   "metadata": {},
   "outputs": [],
   "source": [
    "# save the data to use directly next time\n",
    "#with open('./arr_img_data_small.npy', 'wb') as f:\n",
    "#    np.save(f, img_data_small)\n",
    "#\n",
    "with open('./arr_img_data_small.npy', 'rb') as f:\n",
    "    img_data_small = np.load(f)"
   ]
  },
  {
   "cell_type": "code",
   "execution_count": 8,
   "id": "02911a93-13bb-4d4a-9674-7f4d1a659894",
   "metadata": {},
   "outputs": [
    {
     "name": "stdout",
     "output_type": "stream",
     "text": [
      "<class 'numpy.ndarray'>\n",
      "-0.5595716714743137\n",
      "2.9175500183877534\n"
     ]
    }
   ],
   "source": [
    "print(type(img_data_small))\n",
    "print(img_data_small.min())\n",
    "print(img_data_small.max())"
   ]
  },
  {
   "cell_type": "markdown",
   "id": "f6e51b4d-ae2b-4feb-8787-c41390010c5d",
   "metadata": {},
   "source": [
    "## Process Batched Data"
   ]
  },
  {
   "cell_type": "code",
   "execution_count": 28,
   "id": "eca29f17-c9f4-466d-9b89-89ada743a8b7",
   "metadata": {},
   "outputs": [],
   "source": [
    "batch_size = 2 ## ?! 3 can lead to cuda out of memory\n",
    "loader = DataLoader(img_data_small, batch_size=batch_size, pin_memory=True)  ## NO shuffle"
   ]
  },
  {
   "cell_type": "markdown",
   "id": "972d3da4-1216-48a5-8653-29e5804968c2",
   "metadata": {},
   "source": [
    "### Get predicted probability distribution (log)"
   ]
  },
  {
   "cell_type": "code",
   "execution_count": 31,
   "id": "1eded3a9-53c0-4e5b-97bf-ee072358698b",
   "metadata": {},
   "outputs": [],
   "source": [
    "## A list to store all the predicted log prob distribution\n",
    "log_prob_dist_batched_list = []\n",
    "## A list to store all the predicted age\n",
    "#pred_list = []\n",
    "\n",
    "for batch_ndx, samples in enumerate(loader):\n",
    "    ## sample: torch.Size([batch_size, 1, 160, 192, 160])\n",
    "    #print((np.array(sample[1])==my_info_df3[\"image\"][19]).flatten().all())\n",
    "    n_sample = samples.shape[0]\n",
    "    samples = samples.type(torch.FloatTensor).cuda() ## double to float to cuda\n",
    "    \n",
    "    ## Inference\n",
    "    model.eval() # Don't forget this. BatchNorm will be affected if not in eval mode.\n",
    "    with torch.no_grad():\n",
    "        ## list of only one element: a tensor of size [samples.shape[0], 40, 1, 1, 1], in GPU\n",
    "        output_list = model(samples)\n",
    "    \n",
    "    ## to CPU and reshape to [samples.shape[0], 40]\n",
    "    output_tensor =  output_list[0].cpu().reshape([n_sample, -1])\n",
    "    output_arr = output_tensor.numpy()\n",
    "    log_prob_dist_batched_list.append(output_arr)\n",
    "    \n",
    "    ## exp: map from log domin to prob\n",
    "    #output_prob = np.exp(output_arr) \n",
    "    #pred = output_prob @ bc\n",
    "    \n",
    "    #pred_list.extend(pred)"
   ]
  },
  {
   "cell_type": "code",
   "execution_count": 49,
   "id": "e99826dc-6fcd-4a37-afe8-c4c38efb95bf",
   "metadata": {},
   "outputs": [
    {
     "data": {
      "text/plain": [
       "(20, 40)"
      ]
     },
     "execution_count": 49,
     "metadata": {},
     "output_type": "execute_result"
    }
   ],
   "source": [
    "log_prob_dist = np.concatenate(log_prob_dist_batched_list, axis=0 )\n",
    "log_prob_dist.shape"
   ]
  },
  {
   "cell_type": "code",
   "execution_count": 7,
   "id": "50d845fa-74eb-4ea6-a646-eab803d7f21b",
   "metadata": {},
   "outputs": [],
   "source": [
    "# save the results to use directly next time\n",
    "#with open('./log_prob_dist.npy', 'wb') as f:\n",
    "#    np.save(f, log_prob_dist)\n",
    "with open('./log_prob_dist.npy', 'rb') as f:\n",
    "    log_prob_dist = np.load(f)"
   ]
  },
  {
   "cell_type": "markdown",
   "id": "e9e142ed-e862-4b62-9263-c34dce20d5a7",
   "metadata": {},
   "source": [
    "### Compute average weighted brain age"
   ]
  },
  {
   "cell_type": "code",
   "execution_count": 8,
   "id": "32911c5b-3c6e-446d-96b1-505ace1663ca",
   "metadata": {},
   "outputs": [],
   "source": [
    "## choose a bin center\n",
    "bin_center = bc_2"
   ]
  },
  {
   "cell_type": "code",
   "execution_count": 9,
   "id": "f9d767e4-3813-4dda-b359-2ea0abdac67d",
   "metadata": {},
   "outputs": [],
   "source": [
    "## exp: map from log domin to prob\n",
    "prob_dist = np.exp(log_prob_dist) \n",
    "prediction = prob_dist @ bin_center"
   ]
  },
  {
   "cell_type": "code",
   "execution_count": 10,
   "id": "b9ba24ae-d0f6-4ae9-b0f0-3f8638759991",
   "metadata": {},
   "outputs": [
    {
     "data": {
      "text/html": [
       "<div>\n",
       "<style scoped>\n",
       "    .dataframe tbody tr th:only-of-type {\n",
       "        vertical-align: middle;\n",
       "    }\n",
       "\n",
       "    .dataframe tbody tr th {\n",
       "        vertical-align: top;\n",
       "    }\n",
       "\n",
       "    .dataframe thead th {\n",
       "        text-align: right;\n",
       "    }\n",
       "</style>\n",
       "<table border=\"1\" class=\"dataframe\">\n",
       "  <thead>\n",
       "    <tr style=\"text-align: right;\">\n",
       "      <th></th>\n",
       "      <th>path</th>\n",
       "      <th>study</th>\n",
       "      <th>participant_id</th>\n",
       "      <th>sex</th>\n",
       "      <th>age</th>\n",
       "      <th>status</th>\n",
       "      <th>brain_age</th>\n",
       "      <th>biased_brain_age</th>\n",
       "    </tr>\n",
       "  </thead>\n",
       "  <tbody>\n",
       "    <tr>\n",
       "      <th>0</th>\n",
       "      <td>../data_small/preprocessed\\AOMIC\\ds002785\\sub-...</td>\n",
       "      <td>AOMIC/ds002785</td>\n",
       "      <td>sub-0001</td>\n",
       "      <td>1.0</td>\n",
       "      <td>26.2500</td>\n",
       "      <td>HC</td>\n",
       "      <td>62.145416</td>\n",
       "      <td>54.290834</td>\n",
       "    </tr>\n",
       "    <tr>\n",
       "      <th>1</th>\n",
       "      <td>../data_small/preprocessed\\AOMIC\\ds002785\\sub-...</td>\n",
       "      <td>AOMIC/ds002785</td>\n",
       "      <td>sub-0002</td>\n",
       "      <td>1.0</td>\n",
       "      <td>21.0000</td>\n",
       "      <td>HC</td>\n",
       "      <td>62.379274</td>\n",
       "      <td>54.758549</td>\n",
       "    </tr>\n",
       "    <tr>\n",
       "      <th>2</th>\n",
       "      <td>../data_small/preprocessed\\AOMIC\\ds002785\\sub-...</td>\n",
       "      <td>AOMIC/ds002785</td>\n",
       "      <td>sub-0003</td>\n",
       "      <td>0.0</td>\n",
       "      <td>23.0000</td>\n",
       "      <td>HC</td>\n",
       "      <td>62.356950</td>\n",
       "      <td>54.713899</td>\n",
       "    </tr>\n",
       "    <tr>\n",
       "      <th>3</th>\n",
       "      <td>../data_small/preprocessed\\AOMIC\\ds002785\\sub-...</td>\n",
       "      <td>AOMIC/ds002785</td>\n",
       "      <td>sub-0004</td>\n",
       "      <td>1.0</td>\n",
       "      <td>23.5000</td>\n",
       "      <td>HC</td>\n",
       "      <td>62.381779</td>\n",
       "      <td>54.763559</td>\n",
       "    </tr>\n",
       "    <tr>\n",
       "      <th>4</th>\n",
       "      <td>../data_small/preprocessed\\AOMIC\\ds002785\\sub-...</td>\n",
       "      <td>AOMIC/ds002785</td>\n",
       "      <td>sub-0005</td>\n",
       "      <td>0.0</td>\n",
       "      <td>21.7500</td>\n",
       "      <td>HC</td>\n",
       "      <td>62.185005</td>\n",
       "      <td>54.370017</td>\n",
       "    </tr>\n",
       "    <tr>\n",
       "      <th>5</th>\n",
       "      <td>../data_small/preprocessed\\AOMIC\\ds002790\\sub-...</td>\n",
       "      <td>AOMIC/ds002790</td>\n",
       "      <td>sub-0001</td>\n",
       "      <td>0.0</td>\n",
       "      <td>25.5000</td>\n",
       "      <td>HC</td>\n",
       "      <td>62.074010</td>\n",
       "      <td>54.148022</td>\n",
       "    </tr>\n",
       "    <tr>\n",
       "      <th>6</th>\n",
       "      <td>../data_small/preprocessed\\AOMIC\\ds002790\\sub-...</td>\n",
       "      <td>AOMIC/ds002790</td>\n",
       "      <td>sub-0002</td>\n",
       "      <td>1.0</td>\n",
       "      <td>23.2500</td>\n",
       "      <td>HC</td>\n",
       "      <td>62.305656</td>\n",
       "      <td>54.611315</td>\n",
       "    </tr>\n",
       "    <tr>\n",
       "      <th>7</th>\n",
       "      <td>../data_small/preprocessed\\AOMIC\\ds002790\\sub-...</td>\n",
       "      <td>AOMIC/ds002790</td>\n",
       "      <td>sub-0003</td>\n",
       "      <td>1.0</td>\n",
       "      <td>25.0000</td>\n",
       "      <td>HC</td>\n",
       "      <td>62.186308</td>\n",
       "      <td>54.372623</td>\n",
       "    </tr>\n",
       "    <tr>\n",
       "      <th>8</th>\n",
       "      <td>../data_small/preprocessed\\AOMIC\\ds002790\\sub-...</td>\n",
       "      <td>AOMIC/ds002790</td>\n",
       "      <td>sub-0004</td>\n",
       "      <td>1.0</td>\n",
       "      <td>20.0000</td>\n",
       "      <td>HC</td>\n",
       "      <td>62.324520</td>\n",
       "      <td>54.649036</td>\n",
       "    </tr>\n",
       "    <tr>\n",
       "      <th>9</th>\n",
       "      <td>../data_small/preprocessed\\AOMIC\\ds002790\\sub-...</td>\n",
       "      <td>AOMIC/ds002790</td>\n",
       "      <td>sub-0005</td>\n",
       "      <td>0.0</td>\n",
       "      <td>24.7500</td>\n",
       "      <td>HC</td>\n",
       "      <td>62.302611</td>\n",
       "      <td>54.605220</td>\n",
       "    </tr>\n",
       "    <tr>\n",
       "      <th>10</th>\n",
       "      <td>../data_small/preprocessed\\AOMIC\\ds003097\\sub-...</td>\n",
       "      <td>AOMIC/ds003097</td>\n",
       "      <td>sub-0001</td>\n",
       "      <td>1.0</td>\n",
       "      <td>22.0000</td>\n",
       "      <td>HC</td>\n",
       "      <td>63.926938</td>\n",
       "      <td>57.853878</td>\n",
       "    </tr>\n",
       "    <tr>\n",
       "      <th>11</th>\n",
       "      <td>../data_small/preprocessed\\AOMIC\\ds003097\\sub-...</td>\n",
       "      <td>AOMIC/ds003097</td>\n",
       "      <td>sub-0002</td>\n",
       "      <td>1.0</td>\n",
       "      <td>21.7500</td>\n",
       "      <td>HC</td>\n",
       "      <td>63.610391</td>\n",
       "      <td>57.220782</td>\n",
       "    </tr>\n",
       "    <tr>\n",
       "      <th>12</th>\n",
       "      <td>../data_small/preprocessed\\AOMIC\\ds003097\\sub-...</td>\n",
       "      <td>AOMIC/ds003097</td>\n",
       "      <td>sub-0003</td>\n",
       "      <td>1.0</td>\n",
       "      <td>25.2500</td>\n",
       "      <td>HC</td>\n",
       "      <td>61.939877</td>\n",
       "      <td>53.879745</td>\n",
       "    </tr>\n",
       "    <tr>\n",
       "      <th>13</th>\n",
       "      <td>../data_small/preprocessed\\AOMIC\\ds003097\\sub-...</td>\n",
       "      <td>AOMIC/ds003097</td>\n",
       "      <td>sub-0004</td>\n",
       "      <td>1.0</td>\n",
       "      <td>22.5000</td>\n",
       "      <td>HC</td>\n",
       "      <td>61.671001</td>\n",
       "      <td>53.342010</td>\n",
       "    </tr>\n",
       "    <tr>\n",
       "      <th>14</th>\n",
       "      <td>../data_small/preprocessed\\AOMIC\\ds003097\\sub-...</td>\n",
       "      <td>AOMIC/ds003097</td>\n",
       "      <td>sub-0005</td>\n",
       "      <td>0.0</td>\n",
       "      <td>22.2500</td>\n",
       "      <td>HC</td>\n",
       "      <td>65.306285</td>\n",
       "      <td>60.612553</td>\n",
       "    </tr>\n",
       "    <tr>\n",
       "      <th>15</th>\n",
       "      <td>../data_small/preprocessed\\ds000119\\sub-01\\sub...</td>\n",
       "      <td>ds000119</td>\n",
       "      <td>sub-01</td>\n",
       "      <td>0.0</td>\n",
       "      <td>15.1184</td>\n",
       "      <td>HC</td>\n",
       "      <td>62.243271</td>\n",
       "      <td>54.486549</td>\n",
       "    </tr>\n",
       "    <tr>\n",
       "      <th>16</th>\n",
       "      <td>../data_small/preprocessed\\ds000119\\sub-02\\sub...</td>\n",
       "      <td>ds000119</td>\n",
       "      <td>sub-02</td>\n",
       "      <td>1.0</td>\n",
       "      <td>26.5325</td>\n",
       "      <td>HC</td>\n",
       "      <td>62.024909</td>\n",
       "      <td>54.049808</td>\n",
       "    </tr>\n",
       "    <tr>\n",
       "      <th>17</th>\n",
       "      <td>../data_small/preprocessed\\ds000119\\sub-03\\sub...</td>\n",
       "      <td>ds000119</td>\n",
       "      <td>sub-03</td>\n",
       "      <td>1.0</td>\n",
       "      <td>8.4517</td>\n",
       "      <td>HC</td>\n",
       "      <td>62.648496</td>\n",
       "      <td>55.296984</td>\n",
       "    </tr>\n",
       "    <tr>\n",
       "      <th>18</th>\n",
       "      <td>../data_small/preprocessed\\ds000119\\sub-04\\sub...</td>\n",
       "      <td>ds000119</td>\n",
       "      <td>sub-04</td>\n",
       "      <td>0.0</td>\n",
       "      <td>11.3895</td>\n",
       "      <td>HC</td>\n",
       "      <td>62.316540</td>\n",
       "      <td>54.633073</td>\n",
       "    </tr>\n",
       "    <tr>\n",
       "      <th>19</th>\n",
       "      <td>../data_small/preprocessed\\ds000119\\sub-05\\sub...</td>\n",
       "      <td>ds000119</td>\n",
       "      <td>sub-05</td>\n",
       "      <td>0.0</td>\n",
       "      <td>12.0794</td>\n",
       "      <td>HC</td>\n",
       "      <td>61.957440</td>\n",
       "      <td>53.914880</td>\n",
       "    </tr>\n",
       "  </tbody>\n",
       "</table>\n",
       "</div>"
      ],
      "text/plain": [
       "                                                 path           study  \\\n",
       "0   ../data_small/preprocessed\\AOMIC\\ds002785\\sub-...  AOMIC/ds002785   \n",
       "1   ../data_small/preprocessed\\AOMIC\\ds002785\\sub-...  AOMIC/ds002785   \n",
       "2   ../data_small/preprocessed\\AOMIC\\ds002785\\sub-...  AOMIC/ds002785   \n",
       "3   ../data_small/preprocessed\\AOMIC\\ds002785\\sub-...  AOMIC/ds002785   \n",
       "4   ../data_small/preprocessed\\AOMIC\\ds002785\\sub-...  AOMIC/ds002785   \n",
       "5   ../data_small/preprocessed\\AOMIC\\ds002790\\sub-...  AOMIC/ds002790   \n",
       "6   ../data_small/preprocessed\\AOMIC\\ds002790\\sub-...  AOMIC/ds002790   \n",
       "7   ../data_small/preprocessed\\AOMIC\\ds002790\\sub-...  AOMIC/ds002790   \n",
       "8   ../data_small/preprocessed\\AOMIC\\ds002790\\sub-...  AOMIC/ds002790   \n",
       "9   ../data_small/preprocessed\\AOMIC\\ds002790\\sub-...  AOMIC/ds002790   \n",
       "10  ../data_small/preprocessed\\AOMIC\\ds003097\\sub-...  AOMIC/ds003097   \n",
       "11  ../data_small/preprocessed\\AOMIC\\ds003097\\sub-...  AOMIC/ds003097   \n",
       "12  ../data_small/preprocessed\\AOMIC\\ds003097\\sub-...  AOMIC/ds003097   \n",
       "13  ../data_small/preprocessed\\AOMIC\\ds003097\\sub-...  AOMIC/ds003097   \n",
       "14  ../data_small/preprocessed\\AOMIC\\ds003097\\sub-...  AOMIC/ds003097   \n",
       "15  ../data_small/preprocessed\\ds000119\\sub-01\\sub...        ds000119   \n",
       "16  ../data_small/preprocessed\\ds000119\\sub-02\\sub...        ds000119   \n",
       "17  ../data_small/preprocessed\\ds000119\\sub-03\\sub...        ds000119   \n",
       "18  ../data_small/preprocessed\\ds000119\\sub-04\\sub...        ds000119   \n",
       "19  ../data_small/preprocessed\\ds000119\\sub-05\\sub...        ds000119   \n",
       "\n",
       "   participant_id  sex      age status  brain_age  biased_brain_age  \n",
       "0        sub-0001  1.0  26.2500     HC  62.145416         54.290834  \n",
       "1        sub-0002  1.0  21.0000     HC  62.379274         54.758549  \n",
       "2        sub-0003  0.0  23.0000     HC  62.356950         54.713899  \n",
       "3        sub-0004  1.0  23.5000     HC  62.381779         54.763559  \n",
       "4        sub-0005  0.0  21.7500     HC  62.185005         54.370017  \n",
       "5        sub-0001  0.0  25.5000     HC  62.074010         54.148022  \n",
       "6        sub-0002  1.0  23.2500     HC  62.305656         54.611315  \n",
       "7        sub-0003  1.0  25.0000     HC  62.186308         54.372623  \n",
       "8        sub-0004  1.0  20.0000     HC  62.324520         54.649036  \n",
       "9        sub-0005  0.0  24.7500     HC  62.302611         54.605220  \n",
       "10       sub-0001  1.0  22.0000     HC  63.926938         57.853878  \n",
       "11       sub-0002  1.0  21.7500     HC  63.610391         57.220782  \n",
       "12       sub-0003  1.0  25.2500     HC  61.939877         53.879745  \n",
       "13       sub-0004  1.0  22.5000     HC  61.671001         53.342010  \n",
       "14       sub-0005  0.0  22.2500     HC  65.306285         60.612553  \n",
       "15         sub-01  0.0  15.1184     HC  62.243271         54.486549  \n",
       "16         sub-02  1.0  26.5325     HC  62.024909         54.049808  \n",
       "17         sub-03  1.0   8.4517     HC  62.648496         55.296984  \n",
       "18         sub-04  0.0  11.3895     HC  62.316540         54.633073  \n",
       "19         sub-05  0.0  12.0794     HC  61.957440         53.914880  "
      ]
     },
     "execution_count": 10,
     "metadata": {},
     "output_type": "execute_result"
    }
   ],
   "source": [
    "my_info_df4 = my_info_df2\n",
    "my_info_df4[\"biased_brain_age\"] = pd.Series(prediction)\n",
    "my_info_df4"
   ]
  },
  {
   "cell_type": "code",
   "execution_count": 11,
   "id": "0939c3a3-4fea-4663-b891-3efe723211e5",
   "metadata": {},
   "outputs": [],
   "source": [
    "# save the dataframe so that we can load it directly next time\n",
    "#my_info_df4.to_pickle(\"./df_pred_data_small.pkl\")\n",
    "my_info_df4 = pd.read_pickle(\"./df_pred_data_small.pkl\")"
   ]
  },
  {
   "cell_type": "markdown",
   "id": "b3426913-f30e-4a22-b3ce-16756219c6d0",
   "metadata": {},
   "source": [
    "## Linear Bias Correction"
   ]
  },
  {
   "cell_type": "code",
   "execution_count": 14,
   "id": "a6d46ae0-a821-4b61-a893-244ba85770c8",
   "metadata": {},
   "outputs": [],
   "source": [
    "# chronological age\n",
    "y = my_info_df4[\"age\"].to_numpy()\n",
    "# predicted age\n",
    "x = my_info_df4[\"biased_brain_age\"].to_numpy()"
   ]
  },
  {
   "cell_type": "code",
   "execution_count": 11,
   "id": "c469a864-4324-4a7c-b625-749b6bf67799",
   "metadata": {},
   "outputs": [
    {
     "data": {
      "text/plain": [
       "array([-4.31930152e-03,  5.51196574e+01])"
      ]
     },
     "execution_count": 11,
     "metadata": {},
     "output_type": "execute_result"
    }
   ],
   "source": [
    "# fit x = ay + b --> x = M @ p\n",
    "M = y[:, np.newaxis]**[1, 0]  ## M: [y; 1]\n",
    "p, res, rnk, s = lstsq(M, x)\n",
    "p ## a = p[0]；b = p[1]"
   ]
  },
  {
   "cell_type": "code",
   "execution_count": 12,
   "id": "96ee2466-5914-4048-b467-3f1621ebfdae",
   "metadata": {},
   "outputs": [
    {
     "data": {
      "image/png": "[encoded data removed]",
      "text/plain": [
       "<Figure size 640x480 with 1 Axes>"
      ]
     },
     "metadata": {},
     "output_type": "display_data"
    }
   ],
   "source": [
    "plt.plot(x, y, 'o', label='data')\n",
    "yy = np.linspace(5, 30, 101)\n",
    "xx = p[0] * yy + p[1]\n",
    "plt.plot(xx, yy, label=f'least squares fit, $x = {p[0]:.5f}y + {p[1]:.2f}$')\n",
    "plt.xlabel('x: prediected age')\n",
    "plt.ylabel('y: chronological age')\n",
    "plt.legend(framealpha=1, shadow=True)\n",
    "plt.grid(alpha=0.25)\n",
    "plt.show()"
   ]
  },
  {
   "cell_type": "code",
   "execution_count": 13,
   "id": "7ee248a4-a309-4775-9acb-09c371aadf55",
   "metadata": {},
   "outputs": [
    {
     "data": {
      "text/plain": [
       "array([  191.88825389,    83.60350095,    93.94076695,    82.44355143,\n",
       "         173.55597697,   224.95207583,   117.69088267,   172.9525557 ,\n",
       "         108.95779501,   119.10208141,  -633.02383565,  -486.4499941 ,\n",
       "         287.06326133,   411.55905588, -1271.70924177,   146.57664515,\n",
       "         247.69025354,   -41.05437303,   112.65356001,   278.92872783])"
      ]
     },
     "execution_count": 13,
     "metadata": {},
     "output_type": "execute_result"
    }
   ],
   "source": [
    "a = p[0]\n",
    "b = p[1]\n",
    "x_corrected = (x-b)/a\n",
    "x_corrected"
   ]
  },
  {
   "cell_type": "code",
   "execution_count": null,
   "id": "570575da-5271-486f-8cd6-74897083e2b5",
   "metadata": {},
   "outputs": [],
   "source": []
  },
  {
   "cell_type": "code",
   "execution_count": 12,
   "id": "bcd3fb0c-38df-46ef-9238-46e4171280de",
   "metadata": {},
   "outputs": [],
   "source": [
    "from sklearn.linear_model import LinearRegression\n",
    "import numpy as np\n",
    "def bias_correction(y: np.ndarray, y_pred: np.ndarray):\n",
    "    \"\"\"\n",
    "    :param y: chronological age (ground truth)\n",
    "    :param y_pred: brain age before bias correction (predictions)\n",
    "    :return: bias-corrected brain age\n",
    "    \"\"\"\n",
    "    # Smith2019 bias correction\n",
    "    linear_fit = LinearRegression(fit_intercept=True).fit(\n",
    "        X=y, y=y_pred\n",
    "    )\n",
    "    intercept, slope = linear_fit.intercept_, linear_fit.coef_[0]\n",
    "    y_pred_unbiased = (y_pred - intercept) / (slope + np.finfo(np.float32).eps) # avoid division by 0\n",
    "    return y_pred_unbiased"
   ]
  },
  {
   "cell_type": "code",
   "execution_count": 16,
   "id": "bbb80b80-8eda-4d57-a517-38aaba643a52",
   "metadata": {},
   "outputs": [
    {
     "data": {
      "text/plain": [
       "array([[  191.89355   ],\n",
       "       [   83.60580841],\n",
       "       [   93.94335971],\n",
       "       [   82.44582687],\n",
       "       [  173.56076711],\n",
       "       [  224.9582845 ],\n",
       "       [  117.69413093],\n",
       "       [  172.95732919],\n",
       "       [  108.96080224],\n",
       "       [  119.10536862],\n",
       "       [ -633.04130709],\n",
       "       [ -486.4634201 ],\n",
       "       [  287.07118427],\n",
       "       [  411.5704149 ],\n",
       "       [-1271.7443409 ],\n",
       "       [  146.58069066],\n",
       "       [  247.69708979],\n",
       "       [  -41.05550613],\n",
       "       [  112.65666924],\n",
       "       [  278.93642625]])"
      ]
     },
     "execution_count": 16,
     "metadata": {},
     "output_type": "execute_result"
    }
   ],
   "source": [
    "x_corrected_2 = bias_correction(y=y.reshape(-1, 1), y_pred=x.reshape(-1, 1))\n",
    "x_corrected_2"
   ]
  },
  {
   "cell_type": "code",
   "execution_count": 48,
   "id": "1f325af0-74de-4689-a434-bbbac9ee26c1",
   "metadata": {},
   "outputs": [],
   "source": [
    "# save the dataframe so that we can load it directly next time\n",
    "#my_info_df4.to_pickle(\"./df_pred_data_small.pkl\")\n",
    "#my_info_df4 = pd.read_pickle(\"./df_pred_data_small.pkl\")"
   ]
  },
  {
   "cell_type": "code",
   "execution_count": 40,
   "id": "9aa7dee0-388b-4932-945e-974d19a10864",
   "metadata": {},
   "outputs": [],
   "source": [
    "#torch.cuda.memory_summary(device=None, abbreviated=False)"
   ]
  },
  {
   "cell_type": "code",
   "execution_count": null,
   "id": "1788519e-0414-4906-8604-08a7d379b82a",
   "metadata": {},
   "outputs": [],
   "source": []
  }
 ],
 "metadata": {
  "kernelspec": {
   "display_name": "Python 3 (ipykernel)",
   "language": "python",
   "name": "python3"
  },
  "language_info": {
   "codemirror_mode": {
    "name": "ipython",
    "version": 3
   },
   "file_extension": ".py",
   "mimetype": "text/x-python",
   "name": "python",
   "nbconvert_exporter": "python",
   "pygments_lexer": "ipython3",
   "version": "3.8.16"
  },
  "toc-autonumbering": false
 },
 "nbformat": 4,
 "nbformat_minor": 5
}
