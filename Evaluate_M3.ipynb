{
 "cells": [
  {
   "cell_type": "code",
   "execution_count": 1,
   "id": "4e20fab8-83bb-46a4-8d87-30acd13f3310",
   "metadata": {
    "scrolled": true
   },
   "outputs": [
    {
     "name": "stderr",
     "output_type": "stream",
     "text": [
      "/afs/inf.ed.ac.uk/user/s24/s2442138/miniconda3/envs/ConGele/lib/python3.8/site-packages/umap/distances.py:1063: NumbaDeprecationWarning: The 'nopython' keyword argument was not supplied to the 'numba.jit' decorator. The implicit default value for this argument is currently False, but it will be changed to True in Numba 0.59.0. See https://numba.readthedocs.io/en/stable/reference/deprecation.html#deprecation-of-object-mode-fall-back-behaviour-when-using-jit for details.\n",
      "  @numba.jit()\n",
      "/afs/inf.ed.ac.uk/user/s24/s2442138/miniconda3/envs/ConGele/lib/python3.8/site-packages/umap/distances.py:1071: NumbaDeprecationWarning: The 'nopython' keyword argument was not supplied to the 'numba.jit' decorator. The implicit default value for this argument is currently False, but it will be changed to True in Numba 0.59.0. See https://numba.readthedocs.io/en/stable/reference/deprecation.html#deprecation-of-object-mode-fall-back-behaviour-when-using-jit for details.\n",
      "  @numba.jit()\n",
      "/afs/inf.ed.ac.uk/user/s24/s2442138/miniconda3/envs/ConGele/lib/python3.8/site-packages/umap/distances.py:1086: NumbaDeprecationWarning: The 'nopython' keyword argument was not supplied to the 'numba.jit' decorator. The implicit default value for this argument is currently False, but it will be changed to True in Numba 0.59.0. See https://numba.readthedocs.io/en/stable/reference/deprecation.html#deprecation-of-object-mode-fall-back-behaviour-when-using-jit for details.\n",
      "  @numba.jit()\n",
      "/afs/inf.ed.ac.uk/user/s24/s2442138/miniconda3/envs/ConGele/lib/python3.8/site-packages/tqdm/auto.py:21: TqdmWarning: IProgress not found. Please update jupyter and ipywidgets. See https://ipywidgets.readthedocs.io/en/stable/user_install.html\n",
      "  from .autonotebook import tqdm as notebook_tqdm\n",
      "/afs/inf.ed.ac.uk/user/s24/s2442138/miniconda3/envs/ConGele/lib/python3.8/site-packages/umap/umap_.py:660: NumbaDeprecationWarning: The 'nopython' keyword argument was not supplied to the 'numba.jit' decorator. The implicit default value for this argument is currently False, but it will be changed to True in Numba 0.59.0. See https://numba.readthedocs.io/en/stable/reference/deprecation.html#deprecation-of-object-mode-fall-back-behaviour-when-using-jit for details.\n",
      "  @numba.jit()\n"
     ]
    }
   ],
   "source": [
    "import os\n",
    "import torch\n",
    "from torch.utils.data import DataLoader\n",
    "import pandas as pd\n",
    "from sklearn.metrics import silhouette_score\n",
    "from sklearn.mixture import GaussianMixture\n",
    "from sklearn.metrics.cluster import normalized_mutual_info_score\n",
    "from tqdm import tqdm\n",
    "import matplotlib.pyplot as plt\n",
    "\n",
    "from utils import *\n",
    "from cVAE_utils import *\n",
    "from cVAE_trainer import *"
   ]
  },
  {
   "cell_type": "markdown",
   "id": "c005a1f0-1bdb-4646-a6de-df4a76514fbd",
   "metadata": {},
   "source": [
    "# Load the model"
   ]
  },
  {
   "cell_type": "code",
   "execution_count": 2,
   "id": "a54b3aee-6548-4427-96d7-f6e8ade3ac74",
   "metadata": {},
   "outputs": [],
   "source": [
    "model_info_dir = \"./3DcVAE_asd-UKBB604-dim32/KL_annealing-ALL-train_480-val_120-HP-alpha_250000-beta_1-gamma_0.01-batch_size_10\"\n",
    "\n",
    "norm_type = \"min-max-4\"\n",
    "\n",
    "salient_dim=32\n",
    "irrelevant_dim=32"
   ]
  },
  {
   "cell_type": "code",
   "execution_count": 3,
   "id": "2cd8f00b-fba7-49f0-902f-8265ceba9cd3",
   "metadata": {},
   "outputs": [],
   "source": [
    "device = (\n",
    "    \"cuda\"\n",
    "    if torch.cuda.is_available()\n",
    "    else \"mps\"\n",
    "    if torch.backends.mps.is_available()\n",
    "    else \"cpu\"\n",
    ")"
   ]
  },
  {
   "cell_type": "code",
   "execution_count": 4,
   "id": "bac26338-edfc-458e-bef7-df84e45d53f2",
   "metadata": {},
   "outputs": [
    {
     "data": {
      "text/plain": [
       "<All keys matched successfully>"
      ]
     },
     "execution_count": 4,
     "metadata": {},
     "output_type": "execute_result"
    }
   ],
   "source": [
    "## normally:\n",
    "model_path = os.path.join(model_info_dir, \"model_best.pth\")\n",
    "\n",
    "## some test case:\n",
    "# model_path = \"./3DcVAE_asd-UKBB604-dim32/ALL-train_480-val_120-HP-alpha_250000-beta_1-gamma_100-batch_size_10/model_best - 085 - -0.063.pth\"\n",
    "# model_path = os.path.join(model_info_dir, \"model_last.pth\")\n",
    "\n",
    "cVAE = ContrastiveVAE(salient_dim=salient_dim, irrelevant_dim=irrelevant_dim, model_type=\"asd\")\n",
    "cVAE = torch.nn.DataParallel(cVAE)\n",
    "cVAE = cVAE.to(device)\n",
    "\n",
    "state_dict = torch.load(model_path)\n",
    "cVAE.load_state_dict(state_dict['model'])"
   ]
  },
  {
   "cell_type": "markdown",
   "id": "c40f2da9-2721-4837-80c5-d9bb6f597aaf",
   "metadata": {},
   "source": [
    "## get salient encoder"
   ]
  },
  {
   "cell_type": "code",
   "execution_count": 5,
   "id": "9a4983de-a49b-4570-b4bd-16f56868eb07",
   "metadata": {},
   "outputs": [
    {
     "data": {
      "text/plain": [
       "==========================================================================================\n",
       "Layer (type:depth-idx)                   Output Shape              Param #\n",
       "==========================================================================================\n",
       "DataParallel                             [1, 32]                   --\n",
       "├─cVAE_encoder_asd: 1-1                  [1, 32]                   40,493,504\n",
       "├─cVAE_encoder_asd: 1-2                  --                        --\n",
       "│    └─Sequential: 2-1                   [1, 32, 80, 96, 80]       960\n",
       "│    └─Sequential: 2-2                   --                        --\n",
       "│    │    └─Conv3d: 3-1                  [1, 32, 80, 96, 80]       896\n",
       "│    │    └─BatchNorm3d: 3-2             [1, 32, 80, 96, 80]       64\n",
       "│    │    └─ReLU: 3-3                    [1, 32, 80, 96, 80]       --\n",
       "│    └─Sequential: 2-3                   [1, 64, 40, 48, 40]       55,488\n",
       "│    └─Sequential: 2-4                   --                        --\n",
       "│    │    └─Conv3d: 3-4                  [1, 64, 40, 48, 40]       55,360\n",
       "│    │    └─BatchNorm3d: 3-5             [1, 64, 40, 48, 40]       128\n",
       "│    │    └─ReLU: 3-6                    [1, 64, 40, 48, 40]       --\n",
       "│    └─Sequential: 2-5                   [1, 128, 20, 24, 20]      221,568\n",
       "│    └─Sequential: 2-6                   --                        --\n",
       "│    │    └─Conv3d: 3-7                  [1, 128, 20, 24, 20]      221,312\n",
       "│    │    └─BatchNorm3d: 3-8             [1, 128, 20, 24, 20]      256\n",
       "│    │    └─ReLU: 3-9                    [1, 128, 20, 24, 20]      --\n",
       "│    └─Sequential: 2-7                   [1, 256, 10, 12, 10]      885,504\n",
       "│    └─Sequential: 2-8                   --                        --\n",
       "│    │    └─Conv3d: 3-10                 [1, 256, 10, 12, 10]      884,992\n",
       "│    │    └─BatchNorm3d: 3-11            [1, 256, 10, 12, 10]      512\n",
       "│    │    └─ReLU: 3-12                   [1, 256, 10, 12, 10]      --\n",
       "│    └─Sequential: 2-9                   [1, 128]                  39,321,728\n",
       "│    └─Sequential: 2-10                  --                        --\n",
       "│    │    └─Linear: 3-13                 [1, 128]                  39,321,728\n",
       "│    │    └─ReLU: 3-14                   [1, 128]                  --\n",
       "│    └─Sequential: 2-11                  [1, 32]                   4,128\n",
       "│    └─Sequential: 2-12                  --                        --\n",
       "│    │    └─Linear: 3-15                 [1, 32]                   4,128\n",
       "│    └─Sequential: 2-13                  [1, 32]                   4,128\n",
       "│    └─Sequential: 2-14                  --                        --\n",
       "│    │    └─Linear: 3-16                 [1, 32]                   4,128\n",
       "│    └─GaussianSampleLayer: 2-15         [1, 32]                   --\n",
       "==========================================================================================\n",
       "Total params: 121,480,512\n",
       "Trainable params: 121,480,512\n",
       "Non-trainable params: 0\n",
       "Total mult-adds (G): 8.03\n",
       "==========================================================================================\n",
       "Input size (MB): 19.66\n",
       "Forward/backward pass size (MB): 417.79\n",
       "Params size (MB): 161.97\n",
       "Estimated Total Size (MB): 599.43\n",
       "=========================================================================================="
      ]
     },
     "execution_count": 5,
     "metadata": {},
     "output_type": "execute_result"
    }
   ],
   "source": [
    "salient_encoder = cVAE.module.get_salient_encoder()\n",
    "salient_encoder = torch.nn.DataParallel(salient_encoder)\n",
    "salient_encoder = salient_encoder.to(device)\n",
    "summary(salient_encoder, input_size=(1, 1, 160, 192, 160))"
   ]
  },
  {
   "cell_type": "markdown",
   "id": "e1941b8d-7ed7-4b38-9316-dc2091921fe6",
   "metadata": {},
   "source": [
    "# Prepare test set"
   ]
  },
  {
   "cell_type": "code",
   "execution_count": 6,
   "id": "f3799172-2d98-495b-8530-3f7d801bc7c5",
   "metadata": {},
   "outputs": [
    {
     "name": "stdout",
     "output_type": "stream",
     "text": [
      "6802\n",
      "2461\n",
      "349\n",
      "137\n",
      "604\n",
      "307\n",
      "211\n",
      "86\n"
     ]
    }
   ],
   "source": [
    "## all HC, MDD, diabetes, mdd_diabetes\n",
    "\n",
    "HC_info = pd.read_csv(\"./data_info/T1_MNI_20252_2_0/HC_info.csv\")\n",
    "HC_info.set_index(\"f.eid\", inplace=True)\n",
    "HC_ids_all = set(HC_info.index.tolist())\n",
    "print(len(HC_ids_all))\n",
    "\n",
    "MDD_info = pd.read_csv(\"./data_info/T1_MNI_20252_2_0/MDD_info.csv\")\n",
    "MDD_info.set_index(\"f.eid\", inplace=True)\n",
    "MDD_ids_all = set(MDD_info.index.tolist())\n",
    "print(len(MDD_ids_all))\n",
    "\n",
    "diabetes_info = pd.read_csv(\"./data_info/T1_MNI_20252_2_0/diabetes_info.csv\")\n",
    "diabetes_info.set_index(\"f.eid\", inplace=True)\n",
    "diabetes_ids_all = set(diabetes_info.index.tolist())\n",
    "print(len(diabetes_ids_all))\n",
    "\n",
    "mdd_diabetes_info = pd.read_csv(\"./data_info/T1_MNI_20252_2_0/mdd_diabetes_info.csv\")\n",
    "mdd_diabetes_info.set_index(\"f.eid\", inplace=True)\n",
    "mdd_diabetes_ids_all = set(mdd_diabetes_info.index.tolist())\n",
    "print(len(mdd_diabetes_ids_all))\n",
    "\n",
    "## used in training / val\n",
    "\n",
    "bg_dataset = pd.read_csv(\"./data_info/T1_MNI_20252_2_0/all3_HC/bg_dataset_604.csv\")\n",
    "bg_dataset.set_index(\"f.eid\", inplace=True)\n",
    "HC_ids_train = set(bg_dataset.index.tolist())\n",
    "print(len(HC_ids_train))\n",
    "\n",
    "tg_dataset = pd.read_csv(\"./data_info/T1_MNI_20252_2_0/all3_HC/tg_dataset_604.csv\")\n",
    "tg_dataset.set_index(\"f.eid\", inplace=True)\n",
    "\n",
    "MDD_ids_train = set(tg_dataset[tg_dataset[\"status\"]==\"mdd\"].index.tolist())\n",
    "print(len(MDD_ids_train))\n",
    "\n",
    "diabetes_ids_train = set(tg_dataset[tg_dataset[\"status\"]==\"diabetes\"].index.tolist())\n",
    "print(len(diabetes_ids_train))\n",
    "\n",
    "mdd_diabetes_ids_train = set(tg_dataset[tg_dataset[\"status\"]==\"mdd_diabetes\"].index.tolist())\n",
    "print(len(mdd_diabetes_ids_train))"
   ]
  },
  {
   "cell_type": "code",
   "execution_count": 7,
   "id": "82ffab01-99f5-47a3-b825-6524be6221c7",
   "metadata": {},
   "outputs": [
    {
     "name": "stdout",
     "output_type": "stream",
     "text": [
      "6198\n",
      "2154\n",
      "138\n",
      "51\n"
     ]
    }
   ],
   "source": [
    "## data for testing\n",
    "HC_ids_test = HC_ids_all - HC_ids_train\n",
    "HC_test = HC_info.loc[list(HC_ids_test)]\n",
    "print(len(HC_test))\n",
    "\n",
    "MDD_ids_test = MDD_ids_all - MDD_ids_train\n",
    "MDD_test = MDD_info.loc[list(MDD_ids_test)]\n",
    "print(len(MDD_test))\n",
    "\n",
    "diabetes_ids_test = diabetes_ids_all - diabetes_ids_train\n",
    "diabetes_test = diabetes_info.loc[list(diabetes_ids_test)]\n",
    "print(len(diabetes_test))\n",
    "\n",
    "mdd_diabetes_ids_test = mdd_diabetes_ids_all - mdd_diabetes_ids_train\n",
    "mdd_diabetes_test = mdd_diabetes_info.loc[list(mdd_diabetes_ids_test)]\n",
    "print(len(mdd_diabetes_test))"
   ]
  },
  {
   "cell_type": "code",
   "execution_count": 8,
   "id": "cbbdcf20-df12-4832-b92a-d896a3106387",
   "metadata": {},
   "outputs": [
    {
     "name": "stdout",
     "output_type": "stream",
     "text": [
      "160\n",
      "160\n",
      "160\n"
     ]
    }
   ],
   "source": [
    "random_state = 77\n",
    "n_test = 40\n",
    "\n",
    "HC_test_rand = HC_test.sample(n=n_test, random_state=random_state)\n",
    "MDD_test_rand = MDD_test.sample(n=n_test, random_state=random_state)\n",
    "diabetes_test_rand = diabetes_test.sample(n=n_test, random_state=random_state)\n",
    "mdd_diabetes_test_rand = mdd_diabetes_test.sample(n=n_test, random_state=random_state)\n",
    "\n",
    "test_rand_all = pd.concat([HC_test_rand, MDD_test_rand, diabetes_test_rand, mdd_diabetes_test_rand])\n",
    "print(len(test_rand_all))\n",
    "\n",
    "all_test_paths = test_rand_all[\"path\"].tolist()\n",
    "all_test_labels = test_rand_all[\"label\"].tolist()\n",
    "print(len(all_test_paths))\n",
    "print(len(all_test_labels))"
   ]
  },
  {
   "cell_type": "code",
   "execution_count": 9,
   "id": "27d9822a-dc38-4f6b-ae8b-a2f2ea875adc",
   "metadata": {},
   "outputs": [],
   "source": [
    "batch_size = 10\n",
    "\n",
    "all_test_loader = DataLoader(\n",
    "        ConcatDataset(test_rand_all[\"path\"].tolist(), test_rand_all[\"label\"].tolist()),\n",
    "        batch_size=batch_size, shuffle=False, num_workers=3)\n",
    "\n",
    "# for batch, (paths, labels) in enumerate(all_test_loader):\n",
    "#     print(labels)"
   ]
  },
  {
   "cell_type": "markdown",
   "id": "6c9df051-bf7c-45cf-ab50-0aaf3c4be7aa",
   "metadata": {},
   "source": [
    "# Infer salient features"
   ]
  },
  {
   "cell_type": "code",
   "execution_count": 10,
   "id": "e653f1c4-1f32-4d5b-bc62-b8896c3d2b27",
   "metadata": {},
   "outputs": [],
   "source": [
    "def infer_salient_features(dataloader, encoder, norm_type, model_info_dir, device, enlarge=0.1):\n",
    "    encoder.eval()\n",
    "    s_mu_list = []\n",
    "    label_list = []\n",
    "\n",
    "    # get normalization parameters\n",
    "    norm_params=get_normalization_params(model_info_dir=model_info_dir, type=norm_type)\n",
    "\n",
    "    with torch.no_grad():\n",
    "        for batch, (paths, labels) in enumerate(tqdm(dataloader)):\n",
    "        # for batch, (paths, labels) in enumerate(dataloader):\n",
    "            # obtain np array from path list\n",
    "            X_arr = create_dataset_from_nii_path_list(paths)\n",
    "            # normalizing inputs\n",
    "            X_arr, _ = apply_normalization(type=norm_type, params=norm_params,\n",
    "                                                     tg_samples=X_arr, bg_samples=np.array([0]), enlarge=enlarge)\n",
    "            # convert to tensor\n",
    "            X = torch.from_numpy(X_arr)\n",
    "            # convert data to float type and move it to cuda\n",
    "            X = X.type(torch.FloatTensor).to(device)\n",
    "\n",
    "            # get inference result\n",
    "            s_mu, _, _, = salient_encoder(X)\n",
    "\n",
    "            s_mu_list.append(s_mu)\n",
    "            label_list.extend(labels.tolist())\n",
    "\n",
    "    # calculate silhouette score\n",
    "    s_mu = torch.vstack(s_mu_list).cpu()\n",
    "    print(s_mu.shape)\n",
    "    ss = -77777\n",
    "    if len(set(label_list))>1:\n",
    "        ss = silhouette_score(s_mu, label_list)\n",
    "\n",
    "    # plot\n",
    "    plot_latent_features_2D(mu=s_mu, label=label_list, ss=ss, loss=-77777, name='salient')\n",
    "\n",
    "    return s_mu.numpy(), label_list"
   ]
  },
  {
   "cell_type": "code",
   "execution_count": 11,
   "id": "dfa01031-83e7-4a2a-861d-54f7fb1a56fb",
   "metadata": {},
   "outputs": [
    {
     "name": "stderr",
     "output_type": "stream",
     "text": [
      "100%|███████████████████████████████████████████████████████████████████| 16/16 [01:21<00:00,  5.06s/it]\n"
     ]
    },
    {
     "name": "stdout",
     "output_type": "stream",
     "text": [
      "torch.Size([160, 32])\n"
     ]
    },
    {
     "data": {
      "image/png": "[encoded data removed]",
      "text/plain": [
       "<Figure size 640x480 with 1 Axes>"
      ]
     },
     "metadata": {},
     "output_type": "display_data"
    }
   ],
   "source": [
    "features, labels = infer_salient_features(dataloader=all_test_loader, encoder=salient_encoder, \n",
    "                                          norm_type=norm_type, \n",
    "                                          model_info_dir=model_info_dir, device=device)"
   ]
  },
  {
   "cell_type": "code",
   "execution_count": 12,
   "id": "e65aa20d-2d0f-4f16-8995-dc9caa7ac571",
   "metadata": {},
   "outputs": [
    {
     "name": "stdout",
     "output_type": "stream",
     "text": [
      "(160, 32)\n",
      "160\n",
      "[0.0, 0.0, 0.0, 0.0, 0.0, 0.0, 0.0, 0.0, 0.0, 0.0, 0.0, 0.0, 0.0, 0.0, 0.0, 0.0, 0.0, 0.0, 0.0, 0.0, 0.0, 0.0, 0.0, 0.0, 0.0, 0.0, 0.0, 0.0, 0.0, 0.0, 0.0, 0.0, 0.0, 0.0, 0.0, 0.0, 0.0, 0.0, 0.0, 0.0, 1.0, 1.0, 1.0, 1.0, 1.0, 1.0, 1.0, 1.0, 1.0, 1.0, 1.0, 1.0, 1.0, 1.0, 1.0, 1.0, 1.0, 1.0, 1.0, 1.0, 1.0, 1.0, 1.0, 1.0, 1.0, 1.0, 1.0, 1.0, 1.0, 1.0, 1.0, 1.0, 1.0, 1.0, 1.0, 1.0, 1.0, 1.0, 1.0, 1.0, 2.0, 2.0, 2.0, 2.0, 2.0, 2.0, 2.0, 2.0, 2.0, 2.0, 2.0, 2.0, 2.0, 2.0, 2.0, 2.0, 2.0, 2.0, 2.0, 2.0, 2.0, 2.0, 2.0, 2.0, 2.0, 2.0, 2.0, 2.0, 2.0, 2.0, 2.0, 2.0, 2.0, 2.0, 2.0, 2.0, 2.0, 2.0, 2.0, 2.0, 3.0, 3.0, 3.0, 3.0, 3.0, 3.0, 3.0, 3.0, 3.0, 3.0, 3.0, 3.0, 3.0, 3.0, 3.0, 3.0, 3.0, 3.0, 3.0, 3.0, 3.0, 3.0, 3.0, 3.0, 3.0, 3.0, 3.0, 3.0, 3.0, 3.0, 3.0, 3.0, 3.0, 3.0, 3.0, 3.0, 3.0, 3.0, 3.0, 3.0]\n"
     ]
    }
   ],
   "source": [
    "print(features.shape)\n",
    "print(len(labels))\n",
    "print(labels)"
   ]
  },
  {
   "cell_type": "markdown",
   "id": "b6b5db2c-1518-43fa-895d-26d9b9ece9bd",
   "metadata": {},
   "source": [
    "# Plot"
   ]
  },
  {
   "cell_type": "code",
   "execution_count": 13,
   "id": "5cd471c3-b8ee-4621-9c43-aef31cbcd399",
   "metadata": {},
   "outputs": [],
   "source": [
    "reducer = umap.UMAP()\n",
    "features_2D = reducer.fit_transform(features)"
   ]
  },
  {
   "cell_type": "code",
   "execution_count": 14,
   "id": "1f7a7b3c-b970-4a5e-898c-6203dc094fe8",
   "metadata": {},
   "outputs": [],
   "source": [
    "HC_2D = features_2D[:40]\n",
    "MDD_2D = features_2D[40:80]\n",
    "diabetes_2D = features_2D[80:120]\n",
    "dual_2D = features_2D[120:]"
   ]
  },
  {
   "cell_type": "code",
   "execution_count": 15,
   "id": "8eb1a2f4-1c1c-4697-adc9-cedf7c193845",
   "metadata": {},
   "outputs": [
    {
     "data": {
      "image/png": "[encoded data removed]",
      "text/plain": [
       "<Figure size 640x480 with 1 Axes>"
      ]
     },
     "metadata": {},
     "output_type": "display_data"
    }
   ],
   "source": [
    "plt.scatter(HC_2D[:, 0], HC_2D[:, 1], label=\"HC\", color=\"C2\")\n",
    "plt.scatter(MDD_2D[:, 0], MDD_2D[:, 1], label=\"MDD\", color=\"goldenrod\")\n",
    "plt.scatter(diabetes_2D[:, 0], diabetes_2D[:, 1], label=\"diabetes\", color=\"red\")\n",
    "plt.scatter(dual_2D[:, 0], dual_2D[:, 1], label=\"dual\", color=\"C7\")\n",
    "plt.legend()\n",
    "plt.title(\"Model 3\")\n",
    "plt.savefig(\"./analysis/test-3-plot\")"
   ]
  },
  {
   "cell_type": "markdown",
   "id": "283d049b-12d7-4802-b695-0e6054b1ebaf",
   "metadata": {},
   "source": [
    "# SS"
   ]
  },
  {
   "cell_type": "code",
   "execution_count": 16,
   "id": "f9af8040-e361-4947-a6b7-bc1dd4864bf7",
   "metadata": {},
   "outputs": [
    {
     "data": {
      "text/plain": [
       "-0.037510116"
      ]
     },
     "execution_count": 16,
     "metadata": {},
     "output_type": "execute_result"
    }
   ],
   "source": [
    "ss = silhouette_score(features[40:], labels[40:])\n",
    "ss"
   ]
  },
  {
   "cell_type": "markdown",
   "id": "471d2562-ed9d-44f3-ab30-c8fd18e39e97",
   "metadata": {},
   "source": [
    "# NMI"
   ]
  },
  {
   "cell_type": "code",
   "execution_count": 17,
   "id": "9d2cfc9d-8d2e-4930-9bda-fc379e62bd85",
   "metadata": {},
   "outputs": [
    {
     "name": "stdout",
     "output_type": "stream",
     "text": [
      "[0.01285281786136042, 0.01285281786136042, 0.020966025135702268, 0.020966025135702268, 0.013513536944009372, 0.020966025135702268, 0.01285281786136042, 0.020966025135702268, 0.01285281786136042, 0.01285281786136042, 0.020966025135702268, 0.020966025135702268, 0.020966025135702268, 0.020966025135702268, 0.020966025135702268, 0.01285281786136042, 0.01285281786136042, 0.020966025135702268, 0.01285281786136042, 0.01285281786136042, 0.020966025135702268, 0.020966025135702268, 0.020966025135702268, 0.020966025135702268, 0.020966025135702268, 0.020966025135702268, 0.020966025135702268, 0.01285281786136042, 0.01285281786136042, 0.006410533028920818, 0.020966025135702268, 0.020966025135702268, 0.01285281786136042, 0.01285281786136042, 0.020966025135702268, 0.020966025135702268, 0.020966025135702268, 0.01285281786136042, 0.020966025135702268, 0.020966025135702268, 0.01285281786136042, 0.020966025135702268, 0.020966025135702268, 0.01285281786136042, 0.020966025135702268, 0.01285281786136042, 0.011183784040648579, 0.020966025135702268, 0.01285281786136042, 0.020966025135702268, 0.01285281786136042, 0.020966025135702268, 0.01285281786136042, 0.01285281786136042, 0.020966025135702268, 0.020966025135702268, 0.01285281786136042, 0.01285281786136042, 0.020966025135702268, 0.020966025135702268, 0.01285281786136042, 0.020966025135702268, 0.01285281786136042, 0.020966025135702268, 0.01285281786136042, 0.020966025135702268, 0.020966025135702268, 0.020966025135702268, 0.020966025135702268, 0.020966025135702268, 0.01285281786136042, 0.01285281786136042, 0.020966025135702268, 0.01285281786136042, 0.020966025135702268, 0.020966025135702268, 0.020966025135702268, 0.020966025135702268, 0.020966025135702268, 0.01285281786136042, 0.01285281786136042, 0.020966025135702268, 0.01285281786136042, 0.020966025135702268, 0.013513536944009372, 0.01285281786136042, 0.020966025135702268, 0.01285281786136042, 0.013513536944009372, 0.020966025135702268, 0.01285281786136042, 0.01285281786136042, 0.020966025135702268, 0.020966025135702268, 0.01285281786136042, 0.020966025135702268, 0.01285281786136042, 0.01285281786136042, 0.020966025135702268, 0.020966025135702268]\n",
      "0.01733492232093981\n"
     ]
    }
   ],
   "source": [
    "## target\n",
    "NMI_list=[]\n",
    "cycle=100\n",
    "\n",
    "for i in range(cycle):\n",
    "    k = 3\n",
    "    gmm0 = GaussianMixture(n_components=k, init_params='kmeans')\n",
    "    labels_gmm = gmm0.fit_predict(features[40:])\n",
    "    NMI =  normalized_mutual_info_score(labels[40:], labels_gmm)\n",
    "    NMI_list.append(NMI)\n",
    "\n",
    "print(NMI_list)\n",
    "print(np.array(NMI_list).mean())"
   ]
  },
  {
   "cell_type": "code",
   "execution_count": 18,
   "id": "26aea185-74c1-4273-b979-4befe182624d",
   "metadata": {},
   "outputs": [
    {
     "name": "stdout",
     "output_type": "stream",
     "text": [
      "[0.031940179743726954, 0.013021138625080593, 0.031940179743726954, 0.013021138625080593, 0.013021138625080593, 0.013021138625080593, 0.013021138625080593, 0.031940179743726954, 0.013021138625080593, 0.013021138625080593, 0.031940179743726954, 0.031940179743726954, 0.013021138625080593, 0.031940179743726954, 0.013021138625080593, 0.031940179743726954, 0.031940179743726954, 0.013021138625080593, 0.031940179743726954, 0.013021138625080593, 0.031940179743726954, 0.031940179743726954, 0.013021138625080593, 0.013021138625080593, 0.031940179743726954, 0.013021138625080593, 0.013021138625080593, 0.031940179743726954, 0.013021138625080593, 0.013021138625080593, 0.013021138625080593, 0.031940179743726954, 0.013021138625080593, 0.031940179743726954, 0.013021138625080593, 0.013021138625080593, 0.031940179743726954, 0.031940179743726954, 0.031940179743726954, 0.013021138625080593, 0.031940179743726954, 0.031940179743726954, 0.013642176280753806, 0.031940179743726954, 0.013021138625080593, 0.031940179743726954, 0.031940179743726954, 0.013021138625080593, 0.013021138625080593, 0.013021138625080593, 0.013021138625080593, 0.031940179743726954, 0.013021138625080593, 0.013021138625080593, 0.013021138625080593, 0.013021138625080593, 0.031940179743726954, 0.031940179743726954, 0.031940179743726954, 0.031940179743726954, 0.013021138625080593, 0.013021138625080593, 0.031940179743726954, 0.031940179743726954, 0.013021138625080593, 0.031940179743726954, 0.013021138625080593, 0.013021138625080593, 0.013021138625080593, 0.013021138625080593, 0.013021138625080593, 0.031940179743726954, 0.013021138625080593, 0.013021138625080593, 0.031940179743726954, 0.031940179743726954, 0.013021138625080593, 0.031940179743726954, 0.013021138625080593, 0.031940179743726954, 0.031940179743726954, 0.013021138625080593, 0.013021138625080593, 0.013021138625080593, 0.013021138625080593, 0.031940179743726954, 0.013021138625080593, 0.013021138625080593, 0.013021138625080593, 0.013021138625080593, 0.031940179743726954, 0.013021138625080593, 0.012886715308459409, 0.013021138625080593, 0.013021138625080593, 0.013021138625080593, 0.013021138625080593, 0.031940179743726954, 0.013021138625080593, 0.013021138625080593]\n",
      "0.020593621215929656\n"
     ]
    }
   ],
   "source": [
    "## all\n",
    "NMI_list=[]\n",
    "cycle=100\n",
    "\n",
    "for i in range(cycle):\n",
    "    k = 3\n",
    "    gmm0 = GaussianMixture(n_components=k, init_params='kmeans')\n",
    "    labels_gmm = gmm0.fit_predict(features)\n",
    "    NMI =  normalized_mutual_info_score(labels, labels_gmm)\n",
    "    NMI_list.append(NMI)\n",
    "\n",
    "print(NMI_list)\n",
    "print(np.array(NMI_list).mean())"
   ]
  },
  {
   "cell_type": "code",
   "execution_count": null,
   "id": "cde0ea2a-a800-4e64-af6f-7b249e069fd6",
   "metadata": {},
   "outputs": [],
   "source": []
  },
  {
   "cell_type": "code",
   "execution_count": 19,
   "id": "1cb1f472-1982-40d8-ab6e-2a1451e58eb1",
   "metadata": {},
   "outputs": [],
   "source": [
    "k = 4\n",
    "gmm0 = GaussianMixture(n_components=k, init_params='kmeans')\n",
    "labels_gmm = gmm0.fit_predict(features[40:])\n",
    "# NMI =  normalized_mutual_info_score(labels[40:], labels_gmm)"
   ]
  },
  {
   "cell_type": "code",
   "execution_count": 20,
   "id": "e31bb58e-131b-439c-bc6c-e69fcc96ebbf",
   "metadata": {},
   "outputs": [
    {
     "data": {
      "text/plain": [
       "0.028249749337224832"
      ]
     },
     "execution_count": 20,
     "metadata": {},
     "output_type": "execute_result"
    }
   ],
   "source": [
    "normalized_mutual_info_score(labels[40:], labels_gmm)"
   ]
  }
 ],
 "metadata": {
  "kernelspec": {
   "display_name": "Python 3 (ipykernel)",
   "language": "python",
   "name": "python3"
  },
  "language_info": {
   "codemirror_mode": {
    "name": "ipython",
    "version": 3
   },
   "file_extension": ".py",
   "mimetype": "text/x-python",
   "name": "python",
   "nbconvert_exporter": "python",
   "pygments_lexer": "ipython3",
   "version": "3.8.16"
  }
 },
 "nbformat": 4,
 "nbformat_minor": 5
}
