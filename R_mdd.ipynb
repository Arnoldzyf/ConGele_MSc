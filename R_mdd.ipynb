{
 "cells": [
  {
   "cell_type": "code",
   "execution_count": 3,
   "id": "085abe80-1902-4623-94f7-849a29f5c7da",
   "metadata": {},
   "outputs": [],
   "source": [
    "data_path = \"Z:\\\\data\\\\ukb\\\\phenotypes\\\\fields\\\\2021-04-phenotypes-ukb44797\\\\Touchscreen.rds\"\n",
    "\n",
    "data <- readRDS(data_path)"
   ]
  },
  {
   "cell_type": "code",
   "execution_count": 4,
   "id": "36a7ea27-792d-4ec0-9d1b-33c91ac96ec1",
   "metadata": {},
   "outputs": [
    {
     "data": {
      "text/html": [
       "<ol class=list-inline>\n",
       "\t<li>502492</li>\n",
       "\t<li>1815</li>\n",
       "</ol>\n"
      ],
      "text/latex": [
       "\\begin{enumerate*}\n",
       "\\item 502492\n",
       "\\item 1815\n",
       "\\end{enumerate*}\n"
      ],
      "text/markdown": [
       "1. 502492\n",
       "2. 1815\n",
       "\n",
       "\n"
      ],
      "text/plain": [
       "[1] 502492   1815"
      ]
     },
     "metadata": {},
     "output_type": "display_data"
    }
   ],
   "source": [
    "# check datafram dimension, ...very large\n",
    "dim(data)"
   ]
  },
  {
   "cell_type": "code",
   "execution_count": 8,
   "id": "b3b535a9-dea5-498c-acf4-e6162c519702",
   "metadata": {},
   "outputs": [
    {
     "name": "stdout",
     "output_type": "stream",
     "text": [
      "    f.eid              f.20126.0.0\n",
      "1 1000014 No Bipolar or Depression\n",
      "2 1000027                     <NA>\n",
      "3 1000038                     <NA>\n",
      "4 1000043                     <NA>\n",
      "5 1000052                     <NA>\n",
      "6 1000066                     <NA>\n",
      "[1] 502492      2\n"
     ]
    }
   ],
   "source": [
    "# check column names\n",
    "#colnames(data)\n",
    "\n",
    "# we need \"f.eid\" and \"f.20126.0.0\"\n",
    "ID_mdd_df <- data[ , c(\"f.eid\", \"f.20126.0.0\")]\n",
    "print(head(ID_mdd_df))\n",
    "print(dim(ID_mdd_df))"
   ]
  },
  {
   "cell_type": "code",
   "execution_count": 10,
   "id": "ad183952-b182-4548-af2a-804f935f67f1",
   "metadata": {},
   "outputs": [],
   "source": [
    "# save dataframe to .csv file\n",
    "write.csv(ID_mdd_df, \"./temp/ID_mdd_raw.csv\", row.names=FALSE)"
   ]
  }
 ],
 "metadata": {
  "kernelspec": {
   "display_name": "R",
   "language": "R",
   "name": "ir"
  },
  "language_info": {
   "codemirror_mode": "r",
   "file_extension": ".r",
   "mimetype": "text/x-r-source",
   "name": "R",
   "pygments_lexer": "r",
   "version": "3.6.1"
  }
 },
 "nbformat": 4,
 "nbformat_minor": 5
}
